{
 "cells": [
  {
   "cell_type": "markdown",
   "metadata": {},
   "source": [
    "# Initial look at the database inspired by Chapter 1 Think Stats\n",
    "***"
   ]
  },
  {
   "cell_type": "markdown",
   "metadata": {},
   "source": [
    "I chose this data set because it is easy to find lots of documentation about its many characteristics and features.\n",
    "***"
   ]
  },
  {
   "cell_type": "code",
   "execution_count": 63,
   "metadata": {},
   "outputs": [
    {
     "data": {
      "text/html": [
       "<div>\n",
       "<style scoped>\n",
       "    .dataframe tbody tr th:only-of-type {\n",
       "        vertical-align: middle;\n",
       "    }\n",
       "\n",
       "    .dataframe tbody tr th {\n",
       "        vertical-align: top;\n",
       "    }\n",
       "\n",
       "    .dataframe thead th {\n",
       "        text-align: right;\n",
       "    }\n",
       "</style>\n",
       "<table border=\"1\" class=\"dataframe\">\n",
       "  <thead>\n",
       "    <tr style=\"text-align: right;\">\n",
       "      <th></th>\n",
       "      <th>Unnamed: 0</th>\n",
       "      <th>player_name</th>\n",
       "      <th>team_abbreviation</th>\n",
       "      <th>age</th>\n",
       "      <th>player_height</th>\n",
       "      <th>player_weight</th>\n",
       "      <th>college</th>\n",
       "      <th>country</th>\n",
       "      <th>draft_year</th>\n",
       "      <th>draft_round</th>\n",
       "      <th>...</th>\n",
       "      <th>pts</th>\n",
       "      <th>reb</th>\n",
       "      <th>ast</th>\n",
       "      <th>net_rating</th>\n",
       "      <th>oreb_pct</th>\n",
       "      <th>dreb_pct</th>\n",
       "      <th>usg_pct</th>\n",
       "      <th>ts_pct</th>\n",
       "      <th>ast_pct</th>\n",
       "      <th>season</th>\n",
       "    </tr>\n",
       "  </thead>\n",
       "  <tbody>\n",
       "    <tr>\n",
       "      <th>0</th>\n",
       "      <td>0</td>\n",
       "      <td>Dennis Rodman</td>\n",
       "      <td>CHI</td>\n",
       "      <td>36.0</td>\n",
       "      <td>198.12</td>\n",
       "      <td>99.790240</td>\n",
       "      <td>Southeastern Oklahoma State</td>\n",
       "      <td>USA</td>\n",
       "      <td>1986</td>\n",
       "      <td>2</td>\n",
       "      <td>...</td>\n",
       "      <td>5.7</td>\n",
       "      <td>16.1</td>\n",
       "      <td>3.1</td>\n",
       "      <td>16.1</td>\n",
       "      <td>0.186</td>\n",
       "      <td>0.323</td>\n",
       "      <td>0.100</td>\n",
       "      <td>0.479</td>\n",
       "      <td>0.113</td>\n",
       "      <td>1996-97</td>\n",
       "    </tr>\n",
       "    <tr>\n",
       "      <th>1</th>\n",
       "      <td>1</td>\n",
       "      <td>Dwayne Schintzius</td>\n",
       "      <td>LAC</td>\n",
       "      <td>28.0</td>\n",
       "      <td>215.90</td>\n",
       "      <td>117.933920</td>\n",
       "      <td>Florida</td>\n",
       "      <td>USA</td>\n",
       "      <td>1990</td>\n",
       "      <td>1</td>\n",
       "      <td>...</td>\n",
       "      <td>2.3</td>\n",
       "      <td>1.5</td>\n",
       "      <td>0.3</td>\n",
       "      <td>12.3</td>\n",
       "      <td>0.078</td>\n",
       "      <td>0.151</td>\n",
       "      <td>0.175</td>\n",
       "      <td>0.430</td>\n",
       "      <td>0.048</td>\n",
       "      <td>1996-97</td>\n",
       "    </tr>\n",
       "    <tr>\n",
       "      <th>2</th>\n",
       "      <td>2</td>\n",
       "      <td>Earl Cureton</td>\n",
       "      <td>TOR</td>\n",
       "      <td>39.0</td>\n",
       "      <td>205.74</td>\n",
       "      <td>95.254320</td>\n",
       "      <td>Detroit Mercy</td>\n",
       "      <td>USA</td>\n",
       "      <td>1979</td>\n",
       "      <td>3</td>\n",
       "      <td>...</td>\n",
       "      <td>0.8</td>\n",
       "      <td>1.0</td>\n",
       "      <td>0.4</td>\n",
       "      <td>-2.1</td>\n",
       "      <td>0.105</td>\n",
       "      <td>0.102</td>\n",
       "      <td>0.103</td>\n",
       "      <td>0.376</td>\n",
       "      <td>0.148</td>\n",
       "      <td>1996-97</td>\n",
       "    </tr>\n",
       "    <tr>\n",
       "      <th>3</th>\n",
       "      <td>3</td>\n",
       "      <td>Ed O'Bannon</td>\n",
       "      <td>DAL</td>\n",
       "      <td>24.0</td>\n",
       "      <td>203.20</td>\n",
       "      <td>100.697424</td>\n",
       "      <td>UCLA</td>\n",
       "      <td>USA</td>\n",
       "      <td>1995</td>\n",
       "      <td>1</td>\n",
       "      <td>...</td>\n",
       "      <td>3.7</td>\n",
       "      <td>2.3</td>\n",
       "      <td>0.6</td>\n",
       "      <td>-8.7</td>\n",
       "      <td>0.060</td>\n",
       "      <td>0.149</td>\n",
       "      <td>0.167</td>\n",
       "      <td>0.399</td>\n",
       "      <td>0.077</td>\n",
       "      <td>1996-97</td>\n",
       "    </tr>\n",
       "    <tr>\n",
       "      <th>4</th>\n",
       "      <td>4</td>\n",
       "      <td>Ed Pinckney</td>\n",
       "      <td>MIA</td>\n",
       "      <td>34.0</td>\n",
       "      <td>205.74</td>\n",
       "      <td>108.862080</td>\n",
       "      <td>Villanova</td>\n",
       "      <td>USA</td>\n",
       "      <td>1985</td>\n",
       "      <td>1</td>\n",
       "      <td>...</td>\n",
       "      <td>2.4</td>\n",
       "      <td>2.4</td>\n",
       "      <td>0.2</td>\n",
       "      <td>-11.2</td>\n",
       "      <td>0.109</td>\n",
       "      <td>0.179</td>\n",
       "      <td>0.127</td>\n",
       "      <td>0.611</td>\n",
       "      <td>0.040</td>\n",
       "      <td>1996-97</td>\n",
       "    </tr>\n",
       "  </tbody>\n",
       "</table>\n",
       "<p>5 rows × 22 columns</p>\n",
       "</div>"
      ],
      "text/plain": [
       "   Unnamed: 0        player_name team_abbreviation   age  player_height  \\\n",
       "0           0      Dennis Rodman               CHI  36.0         198.12   \n",
       "1           1  Dwayne Schintzius               LAC  28.0         215.90   \n",
       "2           2       Earl Cureton               TOR  39.0         205.74   \n",
       "3           3        Ed O'Bannon               DAL  24.0         203.20   \n",
       "4           4        Ed Pinckney               MIA  34.0         205.74   \n",
       "\n",
       "   player_weight                      college country draft_year draft_round  \\\n",
       "0      99.790240  Southeastern Oklahoma State     USA       1986           2   \n",
       "1     117.933920                      Florida     USA       1990           1   \n",
       "2      95.254320                Detroit Mercy     USA       1979           3   \n",
       "3     100.697424                         UCLA     USA       1995           1   \n",
       "4     108.862080                    Villanova     USA       1985           1   \n",
       "\n",
       "   ...  pts   reb  ast  net_rating  oreb_pct  dreb_pct  usg_pct  ts_pct  \\\n",
       "0  ...  5.7  16.1  3.1        16.1     0.186     0.323    0.100   0.479   \n",
       "1  ...  2.3   1.5  0.3        12.3     0.078     0.151    0.175   0.430   \n",
       "2  ...  0.8   1.0  0.4        -2.1     0.105     0.102    0.103   0.376   \n",
       "3  ...  3.7   2.3  0.6        -8.7     0.060     0.149    0.167   0.399   \n",
       "4  ...  2.4   2.4  0.2       -11.2     0.109     0.179    0.127   0.611   \n",
       "\n",
       "   ast_pct   season  \n",
       "0    0.113  1996-97  \n",
       "1    0.048  1996-97  \n",
       "2    0.148  1996-97  \n",
       "3    0.077  1996-97  \n",
       "4    0.040  1996-97  \n",
       "\n",
       "[5 rows x 22 columns]"
      ]
     },
     "execution_count": 63,
     "metadata": {},
     "output_type": "execute_result"
    }
   ],
   "source": [
    "# import statements including pandas as pd\n",
    "import pandas as pd\n",
    "import numpy as np\n",
    "import matplotlib.pyplot as plt\n",
    "nba = pd.read_csv('all_seasons.csv')\n",
    "nba.head()"
   ]
  },
  {
   "cell_type": "code",
   "execution_count": 64,
   "metadata": {},
   "outputs": [
    {
     "data": {
      "text/plain": [
       "Index(['Unnamed: 0', 'player_name', 'team_abbreviation', 'age',\n",
       "       'player_height', 'player_weight', 'college', 'country', 'draft_year',\n",
       "       'draft_round', 'draft_number', 'gp', 'pts', 'reb', 'ast', 'net_rating',\n",
       "       'oreb_pct', 'dreb_pct', 'usg_pct', 'ts_pct', 'ast_pct', 'season'],\n",
       "      dtype='object')"
      ]
     },
     "execution_count": 64,
     "metadata": {},
     "output_type": "execute_result"
    }
   ],
   "source": [
    "# I'm unable to see all the columns so I will list them separately\n",
    "nba.columns"
   ]
  },
  {
   "cell_type": "code",
   "execution_count": 65,
   "metadata": {},
   "outputs": [],
   "source": [
    "# !pip install openpyxl"
   ]
  },
  {
   "cell_type": "code",
   "execution_count": 66,
   "metadata": {},
   "outputs": [
    {
     "data": {
      "text/html": [
       "<div>\n",
       "<style scoped>\n",
       "    .dataframe tbody tr th:only-of-type {\n",
       "        vertical-align: middle;\n",
       "    }\n",
       "\n",
       "    .dataframe tbody tr th {\n",
       "        vertical-align: top;\n",
       "    }\n",
       "\n",
       "    .dataframe thead th {\n",
       "        text-align: right;\n",
       "    }\n",
       "</style>\n",
       "<table border=\"1\" class=\"dataframe\">\n",
       "  <thead>\n",
       "    <tr style=\"text-align: right;\">\n",
       "      <th></th>\n",
       "      <th>Season</th>\n",
       "      <th>League</th>\n",
       "      <th>Champion</th>\n",
       "      <th>MVP</th>\n",
       "      <th>Rookie_of_the_Year</th>\n",
       "      <th>Points</th>\n",
       "      <th>Rebounds</th>\n",
       "      <th>Assists</th>\n",
       "      <th>Win_Shares</th>\n",
       "    </tr>\n",
       "  </thead>\n",
       "  <tbody>\n",
       "    <tr>\n",
       "      <th>0</th>\n",
       "      <td>2020-21</td>\n",
       "      <td>NBA</td>\n",
       "      <td>NaN</td>\n",
       "      <td>N. Jokić</td>\n",
       "      <td>L. Ball</td>\n",
       "      <td>S. Curry (2015)</td>\n",
       "      <td>R. Gobert (960)</td>\n",
       "      <td>R. Westbrook (763)</td>\n",
       "      <td>N. Jokić (15.6)</td>\n",
       "    </tr>\n",
       "    <tr>\n",
       "      <th>1</th>\n",
       "      <td>2019-20</td>\n",
       "      <td>NBA</td>\n",
       "      <td>Los Angeles Lakers</td>\n",
       "      <td>G. Antetokounmpo</td>\n",
       "      <td>J. Morant</td>\n",
       "      <td>J. Harden (2335)</td>\n",
       "      <td>R. Gobert (916)</td>\n",
       "      <td>L. James (684)</td>\n",
       "      <td>J. Harden (13.1)</td>\n",
       "    </tr>\n",
       "    <tr>\n",
       "      <th>2</th>\n",
       "      <td>2018-19</td>\n",
       "      <td>NBA</td>\n",
       "      <td>Toronto Raptors</td>\n",
       "      <td>G. Antetokounmpo</td>\n",
       "      <td>L. Dončić</td>\n",
       "      <td>J. Harden (2818)</td>\n",
       "      <td>A. Drummond (1232)</td>\n",
       "      <td>R. Westbrook (784)</td>\n",
       "      <td>J. Harden (15.2)</td>\n",
       "    </tr>\n",
       "    <tr>\n",
       "      <th>3</th>\n",
       "      <td>2017-18</td>\n",
       "      <td>NBA</td>\n",
       "      <td>Golden State Warriors</td>\n",
       "      <td>J. Harden</td>\n",
       "      <td>B. Simmons</td>\n",
       "      <td>L. James (2251)</td>\n",
       "      <td>A. Drummond (1247)</td>\n",
       "      <td>R. Westbrook (820)</td>\n",
       "      <td>J. Harden (15.4)</td>\n",
       "    </tr>\n",
       "    <tr>\n",
       "      <th>4</th>\n",
       "      <td>2016-17</td>\n",
       "      <td>NBA</td>\n",
       "      <td>Golden State Warriors</td>\n",
       "      <td>R. Westbrook</td>\n",
       "      <td>M. Brogdon</td>\n",
       "      <td>R. Westbrook (2558)</td>\n",
       "      <td>A. Drummond (1115)</td>\n",
       "      <td>J. Harden (907)</td>\n",
       "      <td>J. Harden (15.0)</td>\n",
       "    </tr>\n",
       "    <tr>\n",
       "      <th>...</th>\n",
       "      <td>...</td>\n",
       "      <td>...</td>\n",
       "      <td>...</td>\n",
       "      <td>...</td>\n",
       "      <td>...</td>\n",
       "      <td>...</td>\n",
       "      <td>...</td>\n",
       "      <td>...</td>\n",
       "      <td>...</td>\n",
       "    </tr>\n",
       "    <tr>\n",
       "      <th>79</th>\n",
       "      <td>1950-51</td>\n",
       "      <td>NBA</td>\n",
       "      <td>Rochester Royals</td>\n",
       "      <td>NaN</td>\n",
       "      <td>P. Arizin</td>\n",
       "      <td>G. Mikan (1932)</td>\n",
       "      <td>D. Schayes (1080)</td>\n",
       "      <td>A. Phillip (414)</td>\n",
       "      <td>G. Mikan (23.4)</td>\n",
       "    </tr>\n",
       "    <tr>\n",
       "      <th>80</th>\n",
       "      <td>1949-50</td>\n",
       "      <td>NBA</td>\n",
       "      <td>Minneapolis Lakers</td>\n",
       "      <td>NaN</td>\n",
       "      <td>A. Groza</td>\n",
       "      <td>G. Mikan (1865)</td>\n",
       "      <td>NaN</td>\n",
       "      <td>D. McGuire (386)</td>\n",
       "      <td>G. Mikan (21.1)</td>\n",
       "    </tr>\n",
       "    <tr>\n",
       "      <th>81</th>\n",
       "      <td>1948-49</td>\n",
       "      <td>BAA</td>\n",
       "      <td>Minneapolis Lakers</td>\n",
       "      <td>NaN</td>\n",
       "      <td>H. Shannon</td>\n",
       "      <td>G. Mikan (1698)</td>\n",
       "      <td>NaN</td>\n",
       "      <td>B. Davies (321)</td>\n",
       "      <td>G. Mikan (20.9)</td>\n",
       "    </tr>\n",
       "    <tr>\n",
       "      <th>82</th>\n",
       "      <td>1947-48</td>\n",
       "      <td>BAA</td>\n",
       "      <td>Baltimore Bullets</td>\n",
       "      <td>NaN</td>\n",
       "      <td>P. Hoffman</td>\n",
       "      <td>M. Zaslofsky (1007)</td>\n",
       "      <td>NaN</td>\n",
       "      <td>H. Dallmar (120)</td>\n",
       "      <td>B. Feerick (10.5)</td>\n",
       "    </tr>\n",
       "    <tr>\n",
       "      <th>83</th>\n",
       "      <td>1946-47</td>\n",
       "      <td>BAA</td>\n",
       "      <td>Philadelphia Warriors</td>\n",
       "      <td>NaN</td>\n",
       "      <td>NaN</td>\n",
       "      <td>J. Fulks (1389)</td>\n",
       "      <td>NaN</td>\n",
       "      <td>E. Calverley (202)</td>\n",
       "      <td>B. Feerick (18.6)</td>\n",
       "    </tr>\n",
       "  </tbody>\n",
       "</table>\n",
       "<p>84 rows × 9 columns</p>\n",
       "</div>"
      ],
      "text/plain": [
       "     Season League               Champion               MVP  \\\n",
       "0   2020-21    NBA                    NaN          N. Jokić   \n",
       "1   2019-20    NBA     Los Angeles Lakers  G. Antetokounmpo   \n",
       "2   2018-19    NBA        Toronto Raptors  G. Antetokounmpo   \n",
       "3   2017-18    NBA  Golden State Warriors         J. Harden   \n",
       "4   2016-17    NBA  Golden State Warriors      R. Westbrook   \n",
       "..      ...    ...                    ...               ...   \n",
       "79  1950-51    NBA       Rochester Royals               NaN   \n",
       "80  1949-50    NBA     Minneapolis Lakers               NaN   \n",
       "81  1948-49    BAA     Minneapolis Lakers               NaN   \n",
       "82  1947-48    BAA      Baltimore Bullets               NaN   \n",
       "83  1946-47    BAA  Philadelphia Warriors               NaN   \n",
       "\n",
       "   Rookie_of_the_Year               Points            Rebounds  \\\n",
       "0             L. Ball      S. Curry (2015)     R. Gobert (960)   \n",
       "1           J. Morant     J. Harden (2335)     R. Gobert (916)   \n",
       "2           L. Dončić     J. Harden (2818)  A. Drummond (1232)   \n",
       "3          B. Simmons      L. James (2251)  A. Drummond (1247)   \n",
       "4          M. Brogdon  R. Westbrook (2558)  A. Drummond (1115)   \n",
       "..                ...                  ...                 ...   \n",
       "79          P. Arizin      G. Mikan (1932)   D. Schayes (1080)   \n",
       "80           A. Groza      G. Mikan (1865)                 NaN   \n",
       "81         H. Shannon      G. Mikan (1698)                 NaN   \n",
       "82         P. Hoffman  M. Zaslofsky (1007)                 NaN   \n",
       "83                NaN      J. Fulks (1389)                 NaN   \n",
       "\n",
       "               Assists         Win_Shares  \n",
       "0   R. Westbrook (763)    N. Jokić (15.6)  \n",
       "1       L. James (684)   J. Harden (13.1)  \n",
       "2   R. Westbrook (784)   J. Harden (15.2)  \n",
       "3   R. Westbrook (820)   J. Harden (15.4)  \n",
       "4      J. Harden (907)   J. Harden (15.0)  \n",
       "..                 ...                ...  \n",
       "79    A. Phillip (414)    G. Mikan (23.4)  \n",
       "80    D. McGuire (386)    G. Mikan (21.1)  \n",
       "81     B. Davies (321)    G. Mikan (20.9)  \n",
       "82    H. Dallmar (120)  B. Feerick (10.5)  \n",
       "83  E. Calverley (202)  B. Feerick (18.6)  \n",
       "\n",
       "[84 rows x 9 columns]"
      ]
     },
     "execution_count": 66,
     "metadata": {},
     "output_type": "execute_result"
    }
   ],
   "source": [
    "# League winners\n",
    "# win = pd.read_html('https://www.basketball-reference.com/leagues/')\n",
    "# import sqlite3\n",
    "# # Create your connection.\n",
    "# cnx = sqlite3.connect(':memory:')\n",
    "# df[0].to_sql(name='nba', con=cnx)\n",
    "# df1 = pd.read_sql('select * from nba', cnx)\n",
    "# df1.to_excel(\"test.xlsx\")\n",
    "# !pip install xlrd\n",
    "win = pd.read_excel(\"test.xlsx\")\n",
    "del win[\"Unnamed: 0\"]\n",
    "del win[\"index\"]\n",
    "win.columns = [ \"Season\", \"League\", \"Champion\", \"MVP\", \"Rookie_of_the_Year\", \"Points\", \"Rebounds\", \"Assists\", \"Win_Shares\"]\n",
    "win"
   ]
  },
  {
   "cell_type": "code",
   "execution_count": 67,
   "metadata": {},
   "outputs": [
    {
     "data": {
      "text/plain": [
       "-200.0    1\n",
       "-158.3    1\n",
       "-150.0    1\n",
       "-147.5    1\n",
       "-144.9    1\n",
       "         ..\n",
       " 114.3    1\n",
       " 120.0    1\n",
       " 150.0    1\n",
       " 250.0    1\n",
       " 300.0    1\n",
       "Name: net_rating, Length: 707, dtype: int64"
      ]
     },
     "execution_count": 67,
     "metadata": {},
     "output_type": "execute_result"
    }
   ],
   "source": [
    "nba.net_rating.value_counts().sort_index()"
   ]
  },
  {
   "cell_type": "code",
   "execution_count": 68,
   "metadata": {},
   "outputs": [
    {
     "data": {
      "text/plain": [
       "count    11145.000000\n",
       "mean        -2.153899\n",
       "std         12.150611\n",
       "min       -200.000000\n",
       "25%         -6.300000\n",
       "50%         -1.300000\n",
       "75%          3.200000\n",
       "max        300.000000\n",
       "Name: net_rating, dtype: float64"
      ]
     },
     "execution_count": 68,
     "metadata": {},
     "output_type": "execute_result"
    }
   ],
   "source": [
    "nba.net_rating.describe()"
   ]
  },
  {
   "cell_type": "code",
   "execution_count": 69,
   "metadata": {
    "scrolled": true
   },
   "outputs": [
    {
     "data": {
      "image/png": "[encoded data removed]",
      "text/plain": [
       "<Figure size 720x360 with 1 Axes>"
      ]
     },
     "metadata": {
      "needs_background": "light"
     },
     "output_type": "display_data"
    }
   ],
   "source": [
    "import thinkstats2\n",
    "import thinkplot\n",
    "lengths = np.floor(nba.net_rating)\n",
    "hist = thinkstats2.Hist(lengths, label='net_rating')\n",
    "thinkplot.Hist(hist)\n",
    "thinkplot.Config(xlabel='net rating of each player', ylabel='Count')"
   ]
  },
  {
   "cell_type": "code",
   "execution_count": 70,
   "metadata": {
    "scrolled": true
   },
   "outputs": [
    {
     "data": {
      "text/plain": [
       "0.000    425\n",
       "0.002      2\n",
       "0.003      9\n",
       "0.004     11\n",
       "0.005     27\n",
       "        ... \n",
       "0.375      1\n",
       "0.400      2\n",
       "0.500      3\n",
       "0.600      1\n",
       "1.000      1\n",
       "Name: oreb_pct, Length: 216, dtype: int64"
      ]
     },
     "execution_count": 70,
     "metadata": {},
     "output_type": "execute_result"
    }
   ],
   "source": [
    "nba.oreb_pct.value_counts().sort_index()"
   ]
  },
  {
   "cell_type": "code",
   "execution_count": 71,
   "metadata": {},
   "outputs": [
    {
     "data": {
      "text/plain": [
       "count    11145.000000\n",
       "mean         0.055593\n",
       "std          0.043889\n",
       "min          0.000000\n",
       "25%          0.022000\n",
       "50%          0.043000\n",
       "75%          0.086000\n",
       "max          1.000000\n",
       "Name: oreb_pct, dtype: float64"
      ]
     },
     "execution_count": 71,
     "metadata": {},
     "output_type": "execute_result"
    }
   ],
   "source": [
    "nba.oreb_pct.describe()"
   ]
  },
  {
   "cell_type": "code",
   "execution_count": 296,
   "metadata": {
    "scrolled": true
   },
   "outputs": [
    {
     "data": {
      "image/png": "[encoded data removed]",
      "text/plain": [
       "<Figure size 720x720 with 1 Axes>"
      ]
     },
     "metadata": {
      "needs_background": "light"
     },
     "output_type": "display_data"
    }
   ],
   "source": [
    "lengths = np.floor(nba.oreb_pct)\n",
    "hist = thinkstats2.Hist(lengths, label='oreb_pct')\n",
    "thinkplot.Hist(hist, width =0.01)\n",
    "thinkplot.Config(xlabel='Offensive rebound percentage of each player', ylabel='Count')"
   ]
  },
  {
   "cell_type": "code",
   "execution_count": 73,
   "metadata": {
    "scrolled": true
   },
   "outputs": [
    {
     "data": {
      "image/png": "[encoded data removed]",
      "text/plain": [
       "<Figure size 720x360 with 1 Axes>"
      ]
     },
     "metadata": {
      "needs_background": "light"
     },
     "output_type": "display_data"
    }
   ],
   "source": [
    "import matplotlib.pyplot as plt\n",
    "n_bins = 50\n",
    "\n",
    "x = nba.oreb_pct\n",
    "\n",
    "# the histogram of the data\n",
    "n, bins, patches = plt.hist(x, 50, density=True, facecolor='blue', alpha=0.9)\n",
    "\n",
    "\n",
    "plt.xlabel('Offensive rebound percentage of each player')\n",
    "plt.ylabel('Count')\n",
    "plt.title('Histogram of Offensive rebound %')\n",
    "plt.text(.25, 6.25, r'$\\mu=0.0556,\\ \\sigma=0.0439$')\n",
    "plt.rcParams[\"figure.figsize\"] = (10,5)\n",
    "# plt.xlim(0.0, 0.6)\n",
    "# plt.ylim(0, 3000)\n",
    "plt.grid(True)\n",
    "plt.show()"
   ]
  },
  {
   "cell_type": "code",
   "execution_count": 297,
   "metadata": {},
   "outputs": [
    {
     "data": {
      "text/plain": [
       "count    11145.000000\n",
       "mean         0.141772\n",
       "std          0.063194\n",
       "min          0.000000\n",
       "25%          0.096000\n",
       "50%          0.132000\n",
       "75%          0.182000\n",
       "max          1.000000\n",
       "Name: dreb_pct, dtype: float64"
      ]
     },
     "execution_count": 297,
     "metadata": {},
     "output_type": "execute_result"
    }
   ],
   "source": [
    "nba.dreb_pct.describe()"
   ]
  },
  {
   "cell_type": "code",
   "execution_count": 299,
   "metadata": {},
   "outputs": [
    {
     "data": {
      "image/png": "[encoded data removed]",
      "text/plain": [
       "<Figure size 720x360 with 1 Axes>"
      ]
     },
     "metadata": {
      "needs_background": "light"
     },
     "output_type": "display_data"
    }
   ],
   "source": [
    "import matplotlib.pyplot as plt\n",
    "n_bins = 50\n",
    "\n",
    "x = nba.dreb_pct\n",
    "\n",
    "# the histogram of the data\n",
    "n, bins, patches = plt.hist(x, 50, density=True, facecolor='blue', alpha=0.9)\n",
    "\n",
    "\n",
    "plt.xlabel('Deffensive rebound percentage of each player')\n",
    "plt.ylabel('Count')\n",
    "plt.title('Histogram of defffensive rebound %')\n",
    "plt.text(.25, 6.25, r'$\\mu=0.142,\\ \\sigma=0.063$')\n",
    "plt.rcParams[\"figure.figsize\"] = (10,5)\n",
    "# plt.xlim(0.0, 0.6)\n",
    "# plt.ylim(0, 3000)\n",
    "plt.grid(True)\n",
    "plt.show()"
   ]
  },
  {
   "cell_type": "code",
   "execution_count": 74,
   "metadata": {
    "scrolled": true
   },
   "outputs": [
    {
     "data": {
      "text/plain": [
       "0.000    136\n",
       "0.046      1\n",
       "0.051      1\n",
       "0.056      2\n",
       "0.091      1\n",
       "        ... \n",
       "1.025      1\n",
       "1.042      1\n",
       "1.050      1\n",
       "1.064      7\n",
       "1.500      3\n",
       "Name: ts_pct, Length: 529, dtype: int64"
      ]
     },
     "execution_count": 74,
     "metadata": {},
     "output_type": "execute_result"
    }
   ],
   "source": [
    "nba.ts_pct.value_counts().sort_index()"
   ]
  },
  {
   "cell_type": "code",
   "execution_count": 75,
   "metadata": {
    "scrolled": true
   },
   "outputs": [
    {
     "data": {
      "text/plain": [
       "count    11145.000000\n",
       "mean         0.508099\n",
       "std          0.098879\n",
       "min          0.000000\n",
       "25%          0.478000\n",
       "50%          0.521000\n",
       "75%          0.557000\n",
       "max          1.500000\n",
       "Name: ts_pct, dtype: float64"
      ]
     },
     "execution_count": 75,
     "metadata": {},
     "output_type": "execute_result"
    }
   ],
   "source": [
    "nba.ts_pct.describe()"
   ]
  },
  {
   "cell_type": "code",
   "execution_count": 301,
   "metadata": {
    "scrolled": true
   },
   "outputs": [
    {
     "ename": "TypeError",
     "evalue": "Bar() missing 1 required positional argument: 'ys'",
     "output_type": "error",
     "traceback": [
      "\u001b[1;31m---------------------------------------------------------------------------\u001b[0m",
      "\u001b[1;31mTypeError\u001b[0m                                 Traceback (most recent call last)",
      "\u001b[1;32m<ipython-input-301-4620e0ce2227>\u001b[0m in \u001b[0;36m<module>\u001b[1;34m\u001b[0m\n\u001b[0;32m      1\u001b[0m \u001b[0mlengths\u001b[0m \u001b[1;33m=\u001b[0m \u001b[0mnp\u001b[0m\u001b[1;33m.\u001b[0m\u001b[0mfloor\u001b[0m\u001b[1;33m(\u001b[0m\u001b[0mnba\u001b[0m\u001b[1;33m.\u001b[0m\u001b[0mts_pct\u001b[0m\u001b[1;33m)\u001b[0m\u001b[1;33m\u001b[0m\u001b[1;33m\u001b[0m\u001b[0m\n\u001b[0;32m      2\u001b[0m \u001b[0mhist\u001b[0m \u001b[1;33m=\u001b[0m \u001b[0mthinkstats2\u001b[0m\u001b[1;33m.\u001b[0m\u001b[0mHist\u001b[0m\u001b[1;33m(\u001b[0m\u001b[0mlengths\u001b[0m\u001b[1;33m,\u001b[0m \u001b[0mlabel\u001b[0m\u001b[1;33m=\u001b[0m\u001b[1;34m'ts_pct'\u001b[0m\u001b[1;33m)\u001b[0m\u001b[1;33m\u001b[0m\u001b[1;33m\u001b[0m\u001b[0m\n\u001b[1;32m----> 3\u001b[1;33m \u001b[0mthinkplot\u001b[0m\u001b[1;33m.\u001b[0m\u001b[0mBar\u001b[0m\u001b[1;33m(\u001b[0m\u001b[0mhist\u001b[0m\u001b[1;33m,\u001b[0m \u001b[0mwidth\u001b[0m\u001b[1;33m=\u001b[0m \u001b[1;36m0.01\u001b[0m\u001b[1;33m)\u001b[0m\u001b[1;33m\u001b[0m\u001b[1;33m\u001b[0m\u001b[0m\n\u001b[0m\u001b[0;32m      4\u001b[0m \u001b[0mthinkplot\u001b[0m\u001b[1;33m.\u001b[0m\u001b[0mConfig\u001b[0m\u001b[1;33m(\u001b[0m\u001b[0mxlabel\u001b[0m\u001b[1;33m=\u001b[0m\u001b[1;34m'True shooting percentage of each player'\u001b[0m\u001b[1;33m,\u001b[0m \u001b[0mylabel\u001b[0m\u001b[1;33m=\u001b[0m\u001b[1;34m'Frequency'\u001b[0m\u001b[1;33m)\u001b[0m\u001b[1;33m\u001b[0m\u001b[1;33m\u001b[0m\u001b[0m\n",
      "\u001b[1;31mTypeError\u001b[0m: Bar() missing 1 required positional argument: 'ys'"
     ]
    }
   ],
   "source": [
    "lengths = np.floor(nba.ts_pct)\n",
    "hist = thinkstats2.Hist(lengths, label='ts_pct')\n",
    "thinkplot.Bar(hist, width= 0.01)\n",
    "thinkplot.Config(xlabel='True shooting percentage of each player', ylabel='Frequency')"
   ]
  },
  {
   "cell_type": "code",
   "execution_count": 77,
   "metadata": {},
   "outputs": [
    {
     "data": {
      "image/png": "[encoded data removed]",
      "text/plain": [
       "<Figure size 720x360 with 1 Axes>"
      ]
     },
     "metadata": {
      "needs_background": "light"
     },
     "output_type": "display_data"
    }
   ],
   "source": [
    "import matplotlib.pyplot as plt\n",
    "n_bins = 50\n",
    "\n",
    "x = nba.ts_pct\n",
    "\n",
    "# the histogram of the data\n",
    "n, bins, patches = plt.hist(x, 50, density=True, facecolor='blue', alpha=0.9)\n",
    "\n",
    "\n",
    "plt.xlabel('True shooting percentage of each player')\n",
    "plt.ylabel('Frequency')\n",
    "plt.title('Histogram of true shooting percentage of each player')\n",
    "plt.text(0.625,6,  r'$\\mu=0.508,\\ \\sigma=0.099$')\n",
    "plt.rcParams[\"figure.figsize\"] = (10,5)\n",
    "# plt.xlim(18, 44)\n",
    "# plt.ylim(0, 3000)\n",
    "plt.grid(True)\n",
    "plt.show()"
   ]
  },
  {
   "cell_type": "code",
   "execution_count": 78,
   "metadata": {
    "scrolled": true
   },
   "outputs": [
    {
     "data": {
      "text/plain": [
       "18.0       3\n",
       "19.0      67\n",
       "20.0     246\n",
       "21.0     425\n",
       "22.0     678\n",
       "23.0    1039\n",
       "24.0    1143\n",
       "25.0    1025\n",
       "26.0     933\n",
       "27.0     891\n",
       "28.0     774\n",
       "29.0     718\n",
       "30.0     654\n",
       "31.0     581\n",
       "32.0     502\n",
       "33.0     424\n",
       "34.0     329\n",
       "35.0     232\n",
       "36.0     180\n",
       "37.0     126\n",
       "38.0      83\n",
       "39.0      51\n",
       "40.0      27\n",
       "41.0       7\n",
       "42.0       3\n",
       "43.0       3\n",
       "44.0       1\n",
       "Name: age, dtype: int64"
      ]
     },
     "execution_count": 78,
     "metadata": {},
     "output_type": "execute_result"
    }
   ],
   "source": [
    "nba.age.value_counts().sort_index()"
   ]
  },
  {
   "cell_type": "code",
   "execution_count": 79,
   "metadata": {
    "scrolled": true
   },
   "outputs": [
    {
     "data": {
      "text/plain": [
       "count    11145.000000\n",
       "mean        27.168686\n",
       "std          4.344164\n",
       "min         18.000000\n",
       "25%         24.000000\n",
       "50%         27.000000\n",
       "75%         30.000000\n",
       "max         44.000000\n",
       "Name: age, dtype: float64"
      ]
     },
     "execution_count": 79,
     "metadata": {},
     "output_type": "execute_result"
    }
   ],
   "source": [
    "nba.age.describe()"
   ]
  },
  {
   "cell_type": "code",
   "execution_count": 80,
   "metadata": {
    "scrolled": true
   },
   "outputs": [
    {
     "data": {
      "image/png": "[encoded data removed]",
      "text/plain": [
       "<Figure size 720x360 with 1 Axes>"
      ]
     },
     "metadata": {
      "needs_background": "light"
     },
     "output_type": "display_data"
    }
   ],
   "source": [
    "lengths = np.floor(nba.age)\n",
    "hist = thinkstats2.Hist(lengths, label='player age')\n",
    "thinkplot.Hist(hist)\n",
    "thinkplot.Config(xlabel='Player age', ylabel='Frequency')"
   ]
  },
  {
   "cell_type": "code",
   "execution_count": 81,
   "metadata": {},
   "outputs": [
    {
     "data": {
      "image/png": "[encoded data removed]",
      "text/plain": [
       "<Figure size 720x360 with 1 Axes>"
      ]
     },
     "metadata": {
      "needs_background": "light"
     },
     "output_type": "display_data"
    }
   ],
   "source": [
    "import matplotlib.pyplot as plt\n",
    "n_bins = 50\n",
    "\n",
    "x = nba.age\n",
    "\n",
    "# the histogram of the data\n",
    "n, bins, patches = plt.hist(x, 27, density=True, facecolor='blue', alpha=0.9)\n",
    "\n",
    "\n",
    "plt.xlabel('Player age')\n",
    "plt.ylabel('Frequency')\n",
    "plt.title('Histogram of player age')\n",
    "plt.text(28,0.09,  r'$\\mu=27.2,\\ \\sigma=4.34$')\n",
    "plt.rcParams[\"figure.figsize\"] = (10,5)\n",
    "plt.xlim(18, 44)\n",
    "# plt.ylim(0, 3000)\n",
    "plt.grid(True)\n",
    "plt.show()"
   ]
  },
  {
   "cell_type": "code",
   "execution_count": 82,
   "metadata": {
    "scrolled": true
   },
   "outputs": [
    {
     "data": {
      "text/plain": [
       "160.02       5\n",
       "165.10      13\n",
       "167.64       1\n",
       "175.26      24\n",
       "177.80      52\n",
       "180.34     104\n",
       "182.88     254\n",
       "183.00       1\n",
       "185.42     440\n",
       "187.96     496\n",
       "190.50     755\n",
       "193.04     619\n",
       "195.58     807\n",
       "196.00       5\n",
       "198.12     918\n",
       "200.66    1093\n",
       "201.00      13\n",
       "203.00       1\n",
       "203.20    1061\n",
       "205.74    1369\n",
       "208.28    1133\n",
       "210.82     958\n",
       "213.36     673\n",
       "215.90     193\n",
       "218.44      82\n",
       "220.98      43\n",
       "223.52       7\n",
       "226.06       6\n",
       "228.60      16\n",
       "231.14       3\n",
       "Name: player_height, dtype: int64"
      ]
     },
     "execution_count": 82,
     "metadata": {},
     "output_type": "execute_result"
    }
   ],
   "source": [
    "nba.player_height.value_counts().sort_index()"
   ]
  },
  {
   "cell_type": "code",
   "execution_count": 83,
   "metadata": {},
   "outputs": [
    {
     "data": {
      "text/plain": [
       "count    11145.000000\n",
       "mean       200.812818\n",
       "std          9.190973\n",
       "min        160.020000\n",
       "25%        195.580000\n",
       "50%        200.660000\n",
       "75%        208.280000\n",
       "max        231.140000\n",
       "Name: player_height, dtype: float64"
      ]
     },
     "execution_count": 83,
     "metadata": {},
     "output_type": "execute_result"
    }
   ],
   "source": [
    "nba.player_height.describe()"
   ]
  },
  {
   "cell_type": "code",
   "execution_count": 84,
   "metadata": {
    "scrolled": true
   },
   "outputs": [
    {
     "data": {
      "image/png": "[encoded data removed]",
      "text/plain": [
       "<Figure size 720x360 with 1 Axes>"
      ]
     },
     "metadata": {
      "needs_background": "light"
     },
     "output_type": "display_data"
    }
   ],
   "source": [
    "lengths = np.floor(nba.player_height)\n",
    "hist = thinkstats2.Hist(lengths, label='player_height')\n",
    "thinkplot.Hist(hist)\n",
    "thinkplot.Config(xlabel='Player height', ylabel='Count')"
   ]
  },
  {
   "cell_type": "code",
   "execution_count": 85,
   "metadata": {},
   "outputs": [
    {
     "data": {
      "image/png": "[encoded data removed]",
      "text/plain": [
       "<Figure size 720x360 with 1 Axes>"
      ]
     },
     "metadata": {
      "needs_background": "light"
     },
     "output_type": "display_data"
    }
   ],
   "source": [
    "import matplotlib.pyplot as plt\n",
    "n_bins = 50\n",
    "\n",
    "x = nba.player_height\n",
    "\n",
    "# the histogram of the data\n",
    "n, bins, patches = plt.hist(x, 29, density=True, facecolor='blue', alpha=0.9)\n",
    "\n",
    "\n",
    "plt.xlabel('Player height')\n",
    "plt.ylabel('Frequency')\n",
    "plt.title('Histogram of player height')\n",
    "plt.text(216.725, 0.0425, r'$\\mu=200.81,\\ \\sigma=9.19$')\n",
    "plt.rcParams[\"figure.figsize\"] = (10,5)\n",
    "# plt.xlim(0.0, 0.6)\n",
    "# plt.ylim(0, 3000)\n",
    "plt.grid(True)\n",
    "plt.show()"
   ]
  },
  {
   "cell_type": "code",
   "execution_count": 96,
   "metadata": {},
   "outputs": [
    {
     "data": {
      "text/plain": [
       "<matplotlib.axes._subplots.AxesSubplot at 0x1e936093ee0>"
      ]
     },
     "execution_count": 96,
     "metadata": {},
     "output_type": "execute_result"
    },
    {
     "data": {
      "image/png": "[encoded data removed]",
      "text/plain": [
       "<Figure size 720x360 with 1 Axes>"
      ]
     },
     "metadata": {
      "needs_background": "light"
     },
     "output_type": "display_data"
    }
   ],
   "source": [
    "sns.boxplot(x=nba.age)"
   ]
  },
  {
   "cell_type": "code",
   "execution_count": 102,
   "metadata": {},
   "outputs": [
    {
     "name": "stdout",
     "output_type": "stream",
     "text": [
      "I am looking for the comparison of the rookie of the year there for I believe that the older player do not affect my analysis\n"
     ]
    },
    {
     "data": {
      "text/html": [
       "<div>\n",
       "<style scoped>\n",
       "    .dataframe tbody tr th:only-of-type {\n",
       "        vertical-align: middle;\n",
       "    }\n",
       "\n",
       "    .dataframe tbody tr th {\n",
       "        vertical-align: top;\n",
       "    }\n",
       "\n",
       "    .dataframe thead th {\n",
       "        text-align: right;\n",
       "    }\n",
       "</style>\n",
       "<table border=\"1\" class=\"dataframe\">\n",
       "  <thead>\n",
       "    <tr style=\"text-align: right;\">\n",
       "      <th></th>\n",
       "      <th>Unnamed: 0</th>\n",
       "      <th>player_name</th>\n",
       "      <th>team_abbreviation</th>\n",
       "      <th>age</th>\n",
       "      <th>player_height</th>\n",
       "      <th>player_weight</th>\n",
       "      <th>college</th>\n",
       "      <th>country</th>\n",
       "      <th>draft_year</th>\n",
       "      <th>draft_round</th>\n",
       "      <th>...</th>\n",
       "      <th>pts</th>\n",
       "      <th>reb</th>\n",
       "      <th>ast</th>\n",
       "      <th>net_rating</th>\n",
       "      <th>oreb_pct</th>\n",
       "      <th>dreb_pct</th>\n",
       "      <th>usg_pct</th>\n",
       "      <th>ts_pct</th>\n",
       "      <th>ast_pct</th>\n",
       "      <th>season</th>\n",
       "    </tr>\n",
       "  </thead>\n",
       "  <tbody>\n",
       "    <tr>\n",
       "      <th>270</th>\n",
       "      <td>270</td>\n",
       "      <td>Robert Parish</td>\n",
       "      <td>CHI</td>\n",
       "      <td>43.0</td>\n",
       "      <td>215.90</td>\n",
       "      <td>110.676448</td>\n",
       "      <td>Centenary (LA)</td>\n",
       "      <td>USA</td>\n",
       "      <td>1976</td>\n",
       "      <td>1</td>\n",
       "      <td>...</td>\n",
       "      <td>3.7</td>\n",
       "      <td>2.1</td>\n",
       "      <td>0.5</td>\n",
       "      <td>14.9</td>\n",
       "      <td>0.114</td>\n",
       "      <td>0.130</td>\n",
       "      <td>0.201</td>\n",
       "      <td>0.514</td>\n",
       "      <td>0.082</td>\n",
       "      <td>1996-97</td>\n",
       "    </tr>\n",
       "    <tr>\n",
       "      <th>3575</th>\n",
       "      <td>3575</td>\n",
       "      <td>Kevin Willis</td>\n",
       "      <td>ATL</td>\n",
       "      <td>42.0</td>\n",
       "      <td>213.36</td>\n",
       "      <td>111.130040</td>\n",
       "      <td>Michigan State</td>\n",
       "      <td>USA</td>\n",
       "      <td>1984</td>\n",
       "      <td>1</td>\n",
       "      <td>...</td>\n",
       "      <td>3.0</td>\n",
       "      <td>2.6</td>\n",
       "      <td>0.3</td>\n",
       "      <td>-15.5</td>\n",
       "      <td>0.091</td>\n",
       "      <td>0.164</td>\n",
       "      <td>0.151</td>\n",
       "      <td>0.434</td>\n",
       "      <td>0.043</td>\n",
       "      <td>2004-05</td>\n",
       "    </tr>\n",
       "    <tr>\n",
       "      <th>4820</th>\n",
       "      <td>4820</td>\n",
       "      <td>Kevin Willis</td>\n",
       "      <td>DAL</td>\n",
       "      <td>44.0</td>\n",
       "      <td>213.36</td>\n",
       "      <td>111.130040</td>\n",
       "      <td>Michigan State</td>\n",
       "      <td>USA</td>\n",
       "      <td>1984</td>\n",
       "      <td>1</td>\n",
       "      <td>...</td>\n",
       "      <td>2.4</td>\n",
       "      <td>1.6</td>\n",
       "      <td>0.2</td>\n",
       "      <td>11.9</td>\n",
       "      <td>0.063</td>\n",
       "      <td>0.222</td>\n",
       "      <td>0.184</td>\n",
       "      <td>0.432</td>\n",
       "      <td>0.034</td>\n",
       "      <td>2006-07</td>\n",
       "    </tr>\n",
       "    <tr>\n",
       "      <th>4937</th>\n",
       "      <td>4937</td>\n",
       "      <td>Dikembe Mutombo</td>\n",
       "      <td>HOU</td>\n",
       "      <td>42.0</td>\n",
       "      <td>218.44</td>\n",
       "      <td>117.933920</td>\n",
       "      <td>Georgetown</td>\n",
       "      <td>Congo</td>\n",
       "      <td>1991</td>\n",
       "      <td>1</td>\n",
       "      <td>...</td>\n",
       "      <td>3.0</td>\n",
       "      <td>5.1</td>\n",
       "      <td>0.1</td>\n",
       "      <td>3.6</td>\n",
       "      <td>0.118</td>\n",
       "      <td>0.221</td>\n",
       "      <td>0.086</td>\n",
       "      <td>0.591</td>\n",
       "      <td>0.012</td>\n",
       "      <td>2007-08</td>\n",
       "    </tr>\n",
       "    <tr>\n",
       "      <th>5365</th>\n",
       "      <td>5365</td>\n",
       "      <td>Dikembe Mutombo</td>\n",
       "      <td>HOU</td>\n",
       "      <td>43.0</td>\n",
       "      <td>218.44</td>\n",
       "      <td>117.933920</td>\n",
       "      <td>Georgetown</td>\n",
       "      <td>Congo</td>\n",
       "      <td>1991</td>\n",
       "      <td>1</td>\n",
       "      <td>...</td>\n",
       "      <td>1.8</td>\n",
       "      <td>3.7</td>\n",
       "      <td>0.0</td>\n",
       "      <td>1.8</td>\n",
       "      <td>0.152</td>\n",
       "      <td>0.241</td>\n",
       "      <td>0.111</td>\n",
       "      <td>0.472</td>\n",
       "      <td>0.000</td>\n",
       "      <td>2008-09</td>\n",
       "    </tr>\n",
       "    <tr>\n",
       "      <th>10435</th>\n",
       "      <td>10435</td>\n",
       "      <td>Vince Carter</td>\n",
       "      <td>ATL</td>\n",
       "      <td>42.0</td>\n",
       "      <td>198.12</td>\n",
       "      <td>99.790240</td>\n",
       "      <td>North Carolina</td>\n",
       "      <td>USA</td>\n",
       "      <td>1998</td>\n",
       "      <td>1</td>\n",
       "      <td>...</td>\n",
       "      <td>7.4</td>\n",
       "      <td>2.6</td>\n",
       "      <td>1.1</td>\n",
       "      <td>-6.3</td>\n",
       "      <td>0.021</td>\n",
       "      <td>0.114</td>\n",
       "      <td>0.164</td>\n",
       "      <td>0.565</td>\n",
       "      <td>0.097</td>\n",
       "      <td>2018-19</td>\n",
       "    </tr>\n",
       "    <tr>\n",
       "      <th>10960</th>\n",
       "      <td>10960</td>\n",
       "      <td>Vince Carter</td>\n",
       "      <td>ATL</td>\n",
       "      <td>43.0</td>\n",
       "      <td>198.12</td>\n",
       "      <td>99.790240</td>\n",
       "      <td>North Carolina</td>\n",
       "      <td>USA</td>\n",
       "      <td>1998</td>\n",
       "      <td>1</td>\n",
       "      <td>...</td>\n",
       "      <td>4.9</td>\n",
       "      <td>2.1</td>\n",
       "      <td>0.8</td>\n",
       "      <td>-8.6</td>\n",
       "      <td>0.019</td>\n",
       "      <td>0.116</td>\n",
       "      <td>0.163</td>\n",
       "      <td>0.464</td>\n",
       "      <td>0.082</td>\n",
       "      <td>2019-20</td>\n",
       "    </tr>\n",
       "  </tbody>\n",
       "</table>\n",
       "<p>7 rows × 22 columns</p>\n",
       "</div>"
      ],
      "text/plain": [
       "       Unnamed: 0      player_name team_abbreviation   age  player_height  \\\n",
       "270           270    Robert Parish               CHI  43.0         215.90   \n",
       "3575         3575     Kevin Willis               ATL  42.0         213.36   \n",
       "4820         4820     Kevin Willis               DAL  44.0         213.36   \n",
       "4937         4937  Dikembe Mutombo               HOU  42.0         218.44   \n",
       "5365         5365  Dikembe Mutombo               HOU  43.0         218.44   \n",
       "10435       10435     Vince Carter               ATL  42.0         198.12   \n",
       "10960       10960     Vince Carter               ATL  43.0         198.12   \n",
       "\n",
       "       player_weight         college country draft_year draft_round  ...  pts  \\\n",
       "270       110.676448  Centenary (LA)     USA       1976           1  ...  3.7   \n",
       "3575      111.130040  Michigan State     USA       1984           1  ...  3.0   \n",
       "4820      111.130040  Michigan State     USA       1984           1  ...  2.4   \n",
       "4937      117.933920      Georgetown   Congo       1991           1  ...  3.0   \n",
       "5365      117.933920      Georgetown   Congo       1991           1  ...  1.8   \n",
       "10435      99.790240  North Carolina     USA       1998           1  ...  7.4   \n",
       "10960      99.790240  North Carolina     USA       1998           1  ...  4.9   \n",
       "\n",
       "       reb  ast  net_rating  oreb_pct  dreb_pct  usg_pct  ts_pct  ast_pct  \\\n",
       "270    2.1  0.5        14.9     0.114     0.130    0.201   0.514    0.082   \n",
       "3575   2.6  0.3       -15.5     0.091     0.164    0.151   0.434    0.043   \n",
       "4820   1.6  0.2        11.9     0.063     0.222    0.184   0.432    0.034   \n",
       "4937   5.1  0.1         3.6     0.118     0.221    0.086   0.591    0.012   \n",
       "5365   3.7  0.0         1.8     0.152     0.241    0.111   0.472    0.000   \n",
       "10435  2.6  1.1        -6.3     0.021     0.114    0.164   0.565    0.097   \n",
       "10960  2.1  0.8        -8.6     0.019     0.116    0.163   0.464    0.082   \n",
       "\n",
       "        season  \n",
       "270    1996-97  \n",
       "3575   2004-05  \n",
       "4820   2006-07  \n",
       "4937   2007-08  \n",
       "5365   2008-09  \n",
       "10435  2018-19  \n",
       "10960  2019-20  \n",
       "\n",
       "[7 rows x 22 columns]"
      ]
     },
     "execution_count": 102,
     "metadata": {},
     "output_type": "execute_result"
    }
   ],
   "source": [
    "print(\"I am looking for the comparison of the rookie of the year there for I believe that the older player do not affect my analysis\")\n",
    "\n",
    "nba[nba.age> 41]"
   ]
  },
  {
   "cell_type": "code",
   "execution_count": 103,
   "metadata": {
    "scrolled": true
   },
   "outputs": [
    {
     "data": {
      "text/html": [
       "<div>\n",
       "<style scoped>\n",
       "    .dataframe tbody tr th:only-of-type {\n",
       "        vertical-align: middle;\n",
       "    }\n",
       "\n",
       "    .dataframe tbody tr th {\n",
       "        vertical-align: top;\n",
       "    }\n",
       "\n",
       "    .dataframe thead th {\n",
       "        text-align: right;\n",
       "    }\n",
       "</style>\n",
       "<table border=\"1\" class=\"dataframe\">\n",
       "  <thead>\n",
       "    <tr style=\"text-align: right;\">\n",
       "      <th></th>\n",
       "      <th>Unnamed: 0</th>\n",
       "      <th>player_name</th>\n",
       "      <th>team_abbreviation</th>\n",
       "      <th>age</th>\n",
       "      <th>player_height</th>\n",
       "      <th>player_weight</th>\n",
       "      <th>college</th>\n",
       "      <th>country</th>\n",
       "      <th>draft_year</th>\n",
       "      <th>draft_round</th>\n",
       "      <th>...</th>\n",
       "      <th>pts</th>\n",
       "      <th>reb</th>\n",
       "      <th>ast</th>\n",
       "      <th>net_rating</th>\n",
       "      <th>oreb_pct</th>\n",
       "      <th>dreb_pct</th>\n",
       "      <th>usg_pct</th>\n",
       "      <th>ts_pct</th>\n",
       "      <th>ast_pct</th>\n",
       "      <th>season</th>\n",
       "    </tr>\n",
       "  </thead>\n",
       "  <tbody>\n",
       "    <tr>\n",
       "      <th>203</th>\n",
       "      <td>203</td>\n",
       "      <td>Charles Jones</td>\n",
       "      <td>HOU</td>\n",
       "      <td>40.0</td>\n",
       "      <td>205.74</td>\n",
       "      <td>97.522280</td>\n",
       "      <td>Albany State (GA)</td>\n",
       "      <td>USA</td>\n",
       "      <td>1979</td>\n",
       "      <td>8</td>\n",
       "      <td>...</td>\n",
       "      <td>0.3</td>\n",
       "      <td>1.1</td>\n",
       "      <td>0.3</td>\n",
       "      <td>2.6</td>\n",
       "      <td>0.068</td>\n",
       "      <td>0.103</td>\n",
       "      <td>0.025</td>\n",
       "      <td>0.400</td>\n",
       "      <td>0.046</td>\n",
       "      <td>1996-97</td>\n",
       "    </tr>\n",
       "    <tr>\n",
       "      <th>385</th>\n",
       "      <td>385</td>\n",
       "      <td>John Long</td>\n",
       "      <td>TOR</td>\n",
       "      <td>40.0</td>\n",
       "      <td>195.58</td>\n",
       "      <td>90.718400</td>\n",
       "      <td>Detroit Mercy</td>\n",
       "      <td>USA</td>\n",
       "      <td>1978</td>\n",
       "      <td>2</td>\n",
       "      <td>...</td>\n",
       "      <td>4.0</td>\n",
       "      <td>1.3</td>\n",
       "      <td>0.7</td>\n",
       "      <td>-9.8</td>\n",
       "      <td>0.017</td>\n",
       "      <td>0.101</td>\n",
       "      <td>0.182</td>\n",
       "      <td>0.499</td>\n",
       "      <td>0.104</td>\n",
       "      <td>1996-97</td>\n",
       "    </tr>\n",
       "    <tr>\n",
       "      <th>870</th>\n",
       "      <td>870</td>\n",
       "      <td>Herb Williams</td>\n",
       "      <td>NYK</td>\n",
       "      <td>40.0</td>\n",
       "      <td>208.28</td>\n",
       "      <td>109.769264</td>\n",
       "      <td>Ohio State</td>\n",
       "      <td>USA</td>\n",
       "      <td>1981</td>\n",
       "      <td>1</td>\n",
       "      <td>...</td>\n",
       "      <td>1.4</td>\n",
       "      <td>1.1</td>\n",
       "      <td>0.1</td>\n",
       "      <td>-8.0</td>\n",
       "      <td>0.042</td>\n",
       "      <td>0.160</td>\n",
       "      <td>0.143</td>\n",
       "      <td>0.398</td>\n",
       "      <td>0.041</td>\n",
       "      <td>1997-98</td>\n",
       "    </tr>\n",
       "    <tr>\n",
       "      <th>944</th>\n",
       "      <td>944</td>\n",
       "      <td>Dan Schayes</td>\n",
       "      <td>ORL</td>\n",
       "      <td>40.0</td>\n",
       "      <td>210.82</td>\n",
       "      <td>117.933920</td>\n",
       "      <td>Syracuse</td>\n",
       "      <td>USA</td>\n",
       "      <td>1981</td>\n",
       "      <td>1</td>\n",
       "      <td>...</td>\n",
       "      <td>1.5</td>\n",
       "      <td>0.7</td>\n",
       "      <td>0.2</td>\n",
       "      <td>7.2</td>\n",
       "      <td>0.026</td>\n",
       "      <td>0.098</td>\n",
       "      <td>0.131</td>\n",
       "      <td>0.431</td>\n",
       "      <td>0.044</td>\n",
       "      <td>1998-99</td>\n",
       "    </tr>\n",
       "    <tr>\n",
       "      <th>1155</th>\n",
       "      <td>1155</td>\n",
       "      <td>Rick Mahorn</td>\n",
       "      <td>PHI</td>\n",
       "      <td>40.0</td>\n",
       "      <td>208.28</td>\n",
       "      <td>117.933920</td>\n",
       "      <td>Hampton</td>\n",
       "      <td>USA</td>\n",
       "      <td>1980</td>\n",
       "      <td>2</td>\n",
       "      <td>...</td>\n",
       "      <td>0.8</td>\n",
       "      <td>1.4</td>\n",
       "      <td>0.1</td>\n",
       "      <td>-12.2</td>\n",
       "      <td>0.061</td>\n",
       "      <td>0.170</td>\n",
       "      <td>0.099</td>\n",
       "      <td>0.302</td>\n",
       "      <td>0.024</td>\n",
       "      <td>1998-99</td>\n",
       "    </tr>\n",
       "    <tr>\n",
       "      <th>1250</th>\n",
       "      <td>1250</td>\n",
       "      <td>Eddie Johnson</td>\n",
       "      <td>HOU</td>\n",
       "      <td>40.0</td>\n",
       "      <td>200.66</td>\n",
       "      <td>97.522280</td>\n",
       "      <td>Illinois</td>\n",
       "      <td>USA</td>\n",
       "      <td>1981</td>\n",
       "      <td>2</td>\n",
       "      <td>...</td>\n",
       "      <td>4.0</td>\n",
       "      <td>0.7</td>\n",
       "      <td>0.3</td>\n",
       "      <td>-20.8</td>\n",
       "      <td>0.000</td>\n",
       "      <td>0.154</td>\n",
       "      <td>0.292</td>\n",
       "      <td>0.462</td>\n",
       "      <td>0.063</td>\n",
       "      <td>1998-99</td>\n",
       "    </tr>\n",
       "    <tr>\n",
       "      <th>2195</th>\n",
       "      <td>2195</td>\n",
       "      <td>Sam Perkins</td>\n",
       "      <td>IND</td>\n",
       "      <td>40.0</td>\n",
       "      <td>205.74</td>\n",
       "      <td>117.933920</td>\n",
       "      <td>North Carolina</td>\n",
       "      <td>USA</td>\n",
       "      <td>1984</td>\n",
       "      <td>1</td>\n",
       "      <td>...</td>\n",
       "      <td>3.8</td>\n",
       "      <td>2.6</td>\n",
       "      <td>0.6</td>\n",
       "      <td>0.1</td>\n",
       "      <td>0.037</td>\n",
       "      <td>0.159</td>\n",
       "      <td>0.123</td>\n",
       "      <td>0.499</td>\n",
       "      <td>0.066</td>\n",
       "      <td>2000-01</td>\n",
       "    </tr>\n",
       "    <tr>\n",
       "      <th>2274</th>\n",
       "      <td>2274</td>\n",
       "      <td>John Stockton</td>\n",
       "      <td>UTA</td>\n",
       "      <td>40.0</td>\n",
       "      <td>185.42</td>\n",
       "      <td>79.378600</td>\n",
       "      <td>Gonzaga</td>\n",
       "      <td>USA</td>\n",
       "      <td>1984</td>\n",
       "      <td>1</td>\n",
       "      <td>...</td>\n",
       "      <td>13.4</td>\n",
       "      <td>3.2</td>\n",
       "      <td>8.2</td>\n",
       "      <td>3.1</td>\n",
       "      <td>0.028</td>\n",
       "      <td>0.099</td>\n",
       "      <td>0.197</td>\n",
       "      <td>0.601</td>\n",
       "      <td>0.442</td>\n",
       "      <td>2001-02</td>\n",
       "    </tr>\n",
       "    <tr>\n",
       "      <th>3009</th>\n",
       "      <td>3009</td>\n",
       "      <td>Kevin Willis</td>\n",
       "      <td>SAS</td>\n",
       "      <td>40.0</td>\n",
       "      <td>213.36</td>\n",
       "      <td>111.130040</td>\n",
       "      <td>Michigan State</td>\n",
       "      <td>USA</td>\n",
       "      <td>1984</td>\n",
       "      <td>1</td>\n",
       "      <td>...</td>\n",
       "      <td>4.2</td>\n",
       "      <td>3.2</td>\n",
       "      <td>0.3</td>\n",
       "      <td>-6.0</td>\n",
       "      <td>0.116</td>\n",
       "      <td>0.206</td>\n",
       "      <td>0.196</td>\n",
       "      <td>0.506</td>\n",
       "      <td>0.051</td>\n",
       "      <td>2002-03</td>\n",
       "    </tr>\n",
       "    <tr>\n",
       "      <th>3055</th>\n",
       "      <td>3055</td>\n",
       "      <td>Michael Jordan</td>\n",
       "      <td>WAS</td>\n",
       "      <td>40.0</td>\n",
       "      <td>198.12</td>\n",
       "      <td>97.975872</td>\n",
       "      <td>North Carolina</td>\n",
       "      <td>USA</td>\n",
       "      <td>1984</td>\n",
       "      <td>1</td>\n",
       "      <td>...</td>\n",
       "      <td>20.0</td>\n",
       "      <td>6.1</td>\n",
       "      <td>3.8</td>\n",
       "      <td>0.0</td>\n",
       "      <td>0.028</td>\n",
       "      <td>0.167</td>\n",
       "      <td>0.288</td>\n",
       "      <td>0.491</td>\n",
       "      <td>0.207</td>\n",
       "      <td>2002-03</td>\n",
       "    </tr>\n",
       "    <tr>\n",
       "      <th>3287</th>\n",
       "      <td>3287</td>\n",
       "      <td>Karl Malone</td>\n",
       "      <td>LAL</td>\n",
       "      <td>40.0</td>\n",
       "      <td>205.74</td>\n",
       "      <td>117.480328</td>\n",
       "      <td>Louisiana Tech</td>\n",
       "      <td>USA</td>\n",
       "      <td>1985</td>\n",
       "      <td>1</td>\n",
       "      <td>...</td>\n",
       "      <td>13.2</td>\n",
       "      <td>8.7</td>\n",
       "      <td>3.9</td>\n",
       "      <td>8.1</td>\n",
       "      <td>0.051</td>\n",
       "      <td>0.237</td>\n",
       "      <td>0.193</td>\n",
       "      <td>0.555</td>\n",
       "      <td>0.185</td>\n",
       "      <td>2003-04</td>\n",
       "    </tr>\n",
       "    <tr>\n",
       "      <th>3302</th>\n",
       "      <td>3302</td>\n",
       "      <td>Charles Oakley</td>\n",
       "      <td>HOU</td>\n",
       "      <td>40.0</td>\n",
       "      <td>205.74</td>\n",
       "      <td>111.130040</td>\n",
       "      <td>Virginia Union</td>\n",
       "      <td>USA</td>\n",
       "      <td>1985</td>\n",
       "      <td>1</td>\n",
       "      <td>...</td>\n",
       "      <td>1.3</td>\n",
       "      <td>0.7</td>\n",
       "      <td>0.3</td>\n",
       "      <td>-7.9</td>\n",
       "      <td>0.000</td>\n",
       "      <td>0.217</td>\n",
       "      <td>0.165</td>\n",
       "      <td>0.521</td>\n",
       "      <td>0.100</td>\n",
       "      <td>2003-04</td>\n",
       "    </tr>\n",
       "    <tr>\n",
       "      <th>4381</th>\n",
       "      <td>4381</td>\n",
       "      <td>Dikembe Mutombo</td>\n",
       "      <td>HOU</td>\n",
       "      <td>40.0</td>\n",
       "      <td>218.44</td>\n",
       "      <td>120.201880</td>\n",
       "      <td>Georgetown</td>\n",
       "      <td>Congo</td>\n",
       "      <td>1991</td>\n",
       "      <td>1</td>\n",
       "      <td>...</td>\n",
       "      <td>2.6</td>\n",
       "      <td>4.8</td>\n",
       "      <td>0.1</td>\n",
       "      <td>-2.5</td>\n",
       "      <td>0.132</td>\n",
       "      <td>0.255</td>\n",
       "      <td>0.089</td>\n",
       "      <td>0.626</td>\n",
       "      <td>0.007</td>\n",
       "      <td>2005-06</td>\n",
       "    </tr>\n",
       "    <tr>\n",
       "      <th>4630</th>\n",
       "      <td>4630</td>\n",
       "      <td>Clifford Robinson</td>\n",
       "      <td>NJN</td>\n",
       "      <td>40.0</td>\n",
       "      <td>208.28</td>\n",
       "      <td>111.130040</td>\n",
       "      <td>Connecticut</td>\n",
       "      <td>USA</td>\n",
       "      <td>1989</td>\n",
       "      <td>2</td>\n",
       "      <td>...</td>\n",
       "      <td>4.1</td>\n",
       "      <td>2.4</td>\n",
       "      <td>1.0</td>\n",
       "      <td>-10.8</td>\n",
       "      <td>0.037</td>\n",
       "      <td>0.112</td>\n",
       "      <td>0.132</td>\n",
       "      <td>0.434</td>\n",
       "      <td>0.092</td>\n",
       "      <td>2006-07</td>\n",
       "    </tr>\n",
       "    <tr>\n",
       "      <th>4921</th>\n",
       "      <td>4921</td>\n",
       "      <td>Darrell Armstrong</td>\n",
       "      <td>NJN</td>\n",
       "      <td>40.0</td>\n",
       "      <td>185.42</td>\n",
       "      <td>81.646560</td>\n",
       "      <td>Fayetteville State</td>\n",
       "      <td>USA</td>\n",
       "      <td>Undrafted</td>\n",
       "      <td>Undrafted</td>\n",
       "      <td>...</td>\n",
       "      <td>2.5</td>\n",
       "      <td>1.3</td>\n",
       "      <td>1.5</td>\n",
       "      <td>-7.2</td>\n",
       "      <td>0.037</td>\n",
       "      <td>0.106</td>\n",
       "      <td>0.142</td>\n",
       "      <td>0.499</td>\n",
       "      <td>0.225</td>\n",
       "      <td>2007-08</td>\n",
       "    </tr>\n",
       "    <tr>\n",
       "      <th>7324</th>\n",
       "      <td>7324</td>\n",
       "      <td>Grant Hill</td>\n",
       "      <td>LAC</td>\n",
       "      <td>40.0</td>\n",
       "      <td>203.20</td>\n",
       "      <td>102.058200</td>\n",
       "      <td>Duke</td>\n",
       "      <td>USA</td>\n",
       "      <td>1994</td>\n",
       "      <td>1</td>\n",
       "      <td>...</td>\n",
       "      <td>3.2</td>\n",
       "      <td>1.7</td>\n",
       "      <td>0.9</td>\n",
       "      <td>0.6</td>\n",
       "      <td>0.016</td>\n",
       "      <td>0.105</td>\n",
       "      <td>0.142</td>\n",
       "      <td>0.428</td>\n",
       "      <td>0.090</td>\n",
       "      <td>2012-13</td>\n",
       "    </tr>\n",
       "    <tr>\n",
       "      <th>7372</th>\n",
       "      <td>7372</td>\n",
       "      <td>Jason Kidd</td>\n",
       "      <td>NYK</td>\n",
       "      <td>40.0</td>\n",
       "      <td>193.04</td>\n",
       "      <td>95.254320</td>\n",
       "      <td>California</td>\n",
       "      <td>USA</td>\n",
       "      <td>1994</td>\n",
       "      <td>1</td>\n",
       "      <td>...</td>\n",
       "      <td>6.0</td>\n",
       "      <td>4.3</td>\n",
       "      <td>3.3</td>\n",
       "      <td>5.5</td>\n",
       "      <td>0.027</td>\n",
       "      <td>0.161</td>\n",
       "      <td>0.115</td>\n",
       "      <td>0.532</td>\n",
       "      <td>0.178</td>\n",
       "      <td>2012-13</td>\n",
       "    </tr>\n",
       "    <tr>\n",
       "      <th>7404</th>\n",
       "      <td>7404</td>\n",
       "      <td>Kurt Thomas</td>\n",
       "      <td>NYK</td>\n",
       "      <td>40.0</td>\n",
       "      <td>205.74</td>\n",
       "      <td>108.862080</td>\n",
       "      <td>Texas Christian</td>\n",
       "      <td>USA</td>\n",
       "      <td>1995</td>\n",
       "      <td>1</td>\n",
       "      <td>...</td>\n",
       "      <td>2.5</td>\n",
       "      <td>2.3</td>\n",
       "      <td>0.5</td>\n",
       "      <td>-1.2</td>\n",
       "      <td>0.067</td>\n",
       "      <td>0.190</td>\n",
       "      <td>0.117</td>\n",
       "      <td>0.547</td>\n",
       "      <td>0.085</td>\n",
       "      <td>2012-13</td>\n",
       "    </tr>\n",
       "    <tr>\n",
       "      <th>7468</th>\n",
       "      <td>7468</td>\n",
       "      <td>Juwan Howard</td>\n",
       "      <td>MIA</td>\n",
       "      <td>40.0</td>\n",
       "      <td>205.74</td>\n",
       "      <td>113.398000</td>\n",
       "      <td>Michigan</td>\n",
       "      <td>USA</td>\n",
       "      <td>1994</td>\n",
       "      <td>1</td>\n",
       "      <td>...</td>\n",
       "      <td>3.0</td>\n",
       "      <td>1.1</td>\n",
       "      <td>0.9</td>\n",
       "      <td>-11.2</td>\n",
       "      <td>0.000</td>\n",
       "      <td>0.174</td>\n",
       "      <td>0.231</td>\n",
       "      <td>0.540</td>\n",
       "      <td>0.207</td>\n",
       "      <td>2012-13</td>\n",
       "    </tr>\n",
       "    <tr>\n",
       "      <th>7791</th>\n",
       "      <td>7791</td>\n",
       "      <td>Steve Nash</td>\n",
       "      <td>LAL</td>\n",
       "      <td>40.0</td>\n",
       "      <td>190.50</td>\n",
       "      <td>80.739376</td>\n",
       "      <td>Santa Clara</td>\n",
       "      <td>Canada</td>\n",
       "      <td>1996</td>\n",
       "      <td>1</td>\n",
       "      <td>...</td>\n",
       "      <td>6.8</td>\n",
       "      <td>1.9</td>\n",
       "      <td>5.7</td>\n",
       "      <td>-9.3</td>\n",
       "      <td>0.012</td>\n",
       "      <td>0.086</td>\n",
       "      <td>0.186</td>\n",
       "      <td>0.488</td>\n",
       "      <td>0.428</td>\n",
       "      <td>2013-14</td>\n",
       "    </tr>\n",
       "    <tr>\n",
       "      <th>8793</th>\n",
       "      <td>8793</td>\n",
       "      <td>Kevin Garnett</td>\n",
       "      <td>MIN</td>\n",
       "      <td>40.0</td>\n",
       "      <td>210.82</td>\n",
       "      <td>108.862080</td>\n",
       "      <td>None</td>\n",
       "      <td>USA</td>\n",
       "      <td>1995</td>\n",
       "      <td>1</td>\n",
       "      <td>...</td>\n",
       "      <td>3.2</td>\n",
       "      <td>3.9</td>\n",
       "      <td>1.6</td>\n",
       "      <td>6.6</td>\n",
       "      <td>0.031</td>\n",
       "      <td>0.262</td>\n",
       "      <td>0.117</td>\n",
       "      <td>0.491</td>\n",
       "      <td>0.164</td>\n",
       "      <td>2015-16</td>\n",
       "    </tr>\n",
       "    <tr>\n",
       "      <th>8906</th>\n",
       "      <td>8906</td>\n",
       "      <td>Andre Miller</td>\n",
       "      <td>SAS</td>\n",
       "      <td>40.0</td>\n",
       "      <td>190.50</td>\n",
       "      <td>90.718400</td>\n",
       "      <td>Utah</td>\n",
       "      <td>USA</td>\n",
       "      <td>1999</td>\n",
       "      <td>1</td>\n",
       "      <td>...</td>\n",
       "      <td>3.7</td>\n",
       "      <td>1.3</td>\n",
       "      <td>2.2</td>\n",
       "      <td>5.1</td>\n",
       "      <td>0.036</td>\n",
       "      <td>0.101</td>\n",
       "      <td>0.162</td>\n",
       "      <td>0.600</td>\n",
       "      <td>0.276</td>\n",
       "      <td>2015-16</td>\n",
       "    </tr>\n",
       "    <tr>\n",
       "      <th>8967</th>\n",
       "      <td>8967</td>\n",
       "      <td>Tim Duncan</td>\n",
       "      <td>SAS</td>\n",
       "      <td>40.0</td>\n",
       "      <td>210.82</td>\n",
       "      <td>113.398000</td>\n",
       "      <td>Wake Forest</td>\n",
       "      <td>US Virgin Islands</td>\n",
       "      <td>1997</td>\n",
       "      <td>1</td>\n",
       "      <td>...</td>\n",
       "      <td>8.6</td>\n",
       "      <td>7.3</td>\n",
       "      <td>2.7</td>\n",
       "      <td>13.7</td>\n",
       "      <td>0.087</td>\n",
       "      <td>0.234</td>\n",
       "      <td>0.174</td>\n",
       "      <td>0.523</td>\n",
       "      <td>0.153</td>\n",
       "      <td>2015-16</td>\n",
       "    </tr>\n",
       "    <tr>\n",
       "      <th>9116</th>\n",
       "      <td>9116</td>\n",
       "      <td>Vince Carter</td>\n",
       "      <td>MEM</td>\n",
       "      <td>40.0</td>\n",
       "      <td>198.12</td>\n",
       "      <td>99.790240</td>\n",
       "      <td>North Carolina</td>\n",
       "      <td>USA</td>\n",
       "      <td>1998</td>\n",
       "      <td>1</td>\n",
       "      <td>...</td>\n",
       "      <td>8.0</td>\n",
       "      <td>3.1</td>\n",
       "      <td>1.8</td>\n",
       "      <td>3.6</td>\n",
       "      <td>0.023</td>\n",
       "      <td>0.128</td>\n",
       "      <td>0.149</td>\n",
       "      <td>0.542</td>\n",
       "      <td>0.112</td>\n",
       "      <td>2016-17</td>\n",
       "    </tr>\n",
       "    <tr>\n",
       "      <th>9738</th>\n",
       "      <td>9738</td>\n",
       "      <td>Dirk Nowitzki</td>\n",
       "      <td>DAL</td>\n",
       "      <td>40.0</td>\n",
       "      <td>213.36</td>\n",
       "      <td>111.130040</td>\n",
       "      <td>None</td>\n",
       "      <td>Germany</td>\n",
       "      <td>1998</td>\n",
       "      <td>1</td>\n",
       "      <td>...</td>\n",
       "      <td>12.0</td>\n",
       "      <td>5.7</td>\n",
       "      <td>1.6</td>\n",
       "      <td>-2.0</td>\n",
       "      <td>0.012</td>\n",
       "      <td>0.227</td>\n",
       "      <td>0.199</td>\n",
       "      <td>0.575</td>\n",
       "      <td>0.098</td>\n",
       "      <td>2017-18</td>\n",
       "    </tr>\n",
       "    <tr>\n",
       "      <th>9990</th>\n",
       "      <td>9990</td>\n",
       "      <td>Jason Terry</td>\n",
       "      <td>MIL</td>\n",
       "      <td>40.0</td>\n",
       "      <td>187.96</td>\n",
       "      <td>83.914520</td>\n",
       "      <td>Arizona</td>\n",
       "      <td>USA</td>\n",
       "      <td>1999</td>\n",
       "      <td>1</td>\n",
       "      <td>...</td>\n",
       "      <td>3.3</td>\n",
       "      <td>0.9</td>\n",
       "      <td>1.2</td>\n",
       "      <td>1.5</td>\n",
       "      <td>0.006</td>\n",
       "      <td>0.056</td>\n",
       "      <td>0.097</td>\n",
       "      <td>0.525</td>\n",
       "      <td>0.098</td>\n",
       "      <td>2017-18</td>\n",
       "    </tr>\n",
       "    <tr>\n",
       "      <th>10054</th>\n",
       "      <td>10054</td>\n",
       "      <td>Manu Ginobili</td>\n",
       "      <td>SAS</td>\n",
       "      <td>40.0</td>\n",
       "      <td>198.12</td>\n",
       "      <td>92.986360</td>\n",
       "      <td>None</td>\n",
       "      <td>Argentina</td>\n",
       "      <td>1999</td>\n",
       "      <td>2</td>\n",
       "      <td>...</td>\n",
       "      <td>8.9</td>\n",
       "      <td>2.2</td>\n",
       "      <td>2.5</td>\n",
       "      <td>2.1</td>\n",
       "      <td>0.015</td>\n",
       "      <td>0.093</td>\n",
       "      <td>0.205</td>\n",
       "      <td>0.553</td>\n",
       "      <td>0.193</td>\n",
       "      <td>2017-18</td>\n",
       "    </tr>\n",
       "  </tbody>\n",
       "</table>\n",
       "<p>27 rows × 22 columns</p>\n",
       "</div>"
      ],
      "text/plain": [
       "       Unnamed: 0        player_name team_abbreviation   age  player_height  \\\n",
       "203           203      Charles Jones               HOU  40.0         205.74   \n",
       "385           385          John Long               TOR  40.0         195.58   \n",
       "870           870      Herb Williams               NYK  40.0         208.28   \n",
       "944           944        Dan Schayes               ORL  40.0         210.82   \n",
       "1155         1155        Rick Mahorn               PHI  40.0         208.28   \n",
       "1250         1250      Eddie Johnson               HOU  40.0         200.66   \n",
       "2195         2195        Sam Perkins               IND  40.0         205.74   \n",
       "2274         2274      John Stockton               UTA  40.0         185.42   \n",
       "3009         3009       Kevin Willis               SAS  40.0         213.36   \n",
       "3055         3055     Michael Jordan               WAS  40.0         198.12   \n",
       "3287         3287        Karl Malone               LAL  40.0         205.74   \n",
       "3302         3302     Charles Oakley               HOU  40.0         205.74   \n",
       "4381         4381    Dikembe Mutombo               HOU  40.0         218.44   \n",
       "4630         4630  Clifford Robinson               NJN  40.0         208.28   \n",
       "4921         4921  Darrell Armstrong               NJN  40.0         185.42   \n",
       "7324         7324         Grant Hill               LAC  40.0         203.20   \n",
       "7372         7372         Jason Kidd               NYK  40.0         193.04   \n",
       "7404         7404        Kurt Thomas               NYK  40.0         205.74   \n",
       "7468         7468       Juwan Howard               MIA  40.0         205.74   \n",
       "7791         7791         Steve Nash               LAL  40.0         190.50   \n",
       "8793         8793      Kevin Garnett               MIN  40.0         210.82   \n",
       "8906         8906       Andre Miller               SAS  40.0         190.50   \n",
       "8967         8967         Tim Duncan               SAS  40.0         210.82   \n",
       "9116         9116       Vince Carter               MEM  40.0         198.12   \n",
       "9738         9738      Dirk Nowitzki               DAL  40.0         213.36   \n",
       "9990         9990        Jason Terry               MIL  40.0         187.96   \n",
       "10054       10054      Manu Ginobili               SAS  40.0         198.12   \n",
       "\n",
       "       player_weight             college            country draft_year  \\\n",
       "203        97.522280   Albany State (GA)                USA       1979   \n",
       "385        90.718400       Detroit Mercy                USA       1978   \n",
       "870       109.769264          Ohio State                USA       1981   \n",
       "944       117.933920            Syracuse                USA       1981   \n",
       "1155      117.933920             Hampton                USA       1980   \n",
       "1250       97.522280            Illinois                USA       1981   \n",
       "2195      117.933920      North Carolina                USA       1984   \n",
       "2274       79.378600             Gonzaga                USA       1984   \n",
       "3009      111.130040      Michigan State                USA       1984   \n",
       "3055       97.975872      North Carolina                USA       1984   \n",
       "3287      117.480328      Louisiana Tech                USA       1985   \n",
       "3302      111.130040      Virginia Union                USA       1985   \n",
       "4381      120.201880          Georgetown              Congo       1991   \n",
       "4630      111.130040         Connecticut                USA       1989   \n",
       "4921       81.646560  Fayetteville State                USA  Undrafted   \n",
       "7324      102.058200                Duke                USA       1994   \n",
       "7372       95.254320          California                USA       1994   \n",
       "7404      108.862080     Texas Christian                USA       1995   \n",
       "7468      113.398000            Michigan                USA       1994   \n",
       "7791       80.739376         Santa Clara             Canada       1996   \n",
       "8793      108.862080                None                USA       1995   \n",
       "8906       90.718400                Utah                USA       1999   \n",
       "8967      113.398000         Wake Forest  US Virgin Islands       1997   \n",
       "9116       99.790240      North Carolina                USA       1998   \n",
       "9738      111.130040                None            Germany       1998   \n",
       "9990       83.914520             Arizona                USA       1999   \n",
       "10054      92.986360                None          Argentina       1999   \n",
       "\n",
       "      draft_round  ...   pts  reb  ast  net_rating  oreb_pct  dreb_pct  \\\n",
       "203             8  ...   0.3  1.1  0.3         2.6     0.068     0.103   \n",
       "385             2  ...   4.0  1.3  0.7        -9.8     0.017     0.101   \n",
       "870             1  ...   1.4  1.1  0.1        -8.0     0.042     0.160   \n",
       "944             1  ...   1.5  0.7  0.2         7.2     0.026     0.098   \n",
       "1155            2  ...   0.8  1.4  0.1       -12.2     0.061     0.170   \n",
       "1250            2  ...   4.0  0.7  0.3       -20.8     0.000     0.154   \n",
       "2195            1  ...   3.8  2.6  0.6         0.1     0.037     0.159   \n",
       "2274            1  ...  13.4  3.2  8.2         3.1     0.028     0.099   \n",
       "3009            1  ...   4.2  3.2  0.3        -6.0     0.116     0.206   \n",
       "3055            1  ...  20.0  6.1  3.8         0.0     0.028     0.167   \n",
       "3287            1  ...  13.2  8.7  3.9         8.1     0.051     0.237   \n",
       "3302            1  ...   1.3  0.7  0.3        -7.9     0.000     0.217   \n",
       "4381            1  ...   2.6  4.8  0.1        -2.5     0.132     0.255   \n",
       "4630            2  ...   4.1  2.4  1.0       -10.8     0.037     0.112   \n",
       "4921    Undrafted  ...   2.5  1.3  1.5        -7.2     0.037     0.106   \n",
       "7324            1  ...   3.2  1.7  0.9         0.6     0.016     0.105   \n",
       "7372            1  ...   6.0  4.3  3.3         5.5     0.027     0.161   \n",
       "7404            1  ...   2.5  2.3  0.5        -1.2     0.067     0.190   \n",
       "7468            1  ...   3.0  1.1  0.9       -11.2     0.000     0.174   \n",
       "7791            1  ...   6.8  1.9  5.7        -9.3     0.012     0.086   \n",
       "8793            1  ...   3.2  3.9  1.6         6.6     0.031     0.262   \n",
       "8906            1  ...   3.7  1.3  2.2         5.1     0.036     0.101   \n",
       "8967            1  ...   8.6  7.3  2.7        13.7     0.087     0.234   \n",
       "9116            1  ...   8.0  3.1  1.8         3.6     0.023     0.128   \n",
       "9738            1  ...  12.0  5.7  1.6        -2.0     0.012     0.227   \n",
       "9990            1  ...   3.3  0.9  1.2         1.5     0.006     0.056   \n",
       "10054           2  ...   8.9  2.2  2.5         2.1     0.015     0.093   \n",
       "\n",
       "       usg_pct  ts_pct  ast_pct   season  \n",
       "203      0.025   0.400    0.046  1996-97  \n",
       "385      0.182   0.499    0.104  1996-97  \n",
       "870      0.143   0.398    0.041  1997-98  \n",
       "944      0.131   0.431    0.044  1998-99  \n",
       "1155     0.099   0.302    0.024  1998-99  \n",
       "1250     0.292   0.462    0.063  1998-99  \n",
       "2195     0.123   0.499    0.066  2000-01  \n",
       "2274     0.197   0.601    0.442  2001-02  \n",
       "3009     0.196   0.506    0.051  2002-03  \n",
       "3055     0.288   0.491    0.207  2002-03  \n",
       "3287     0.193   0.555    0.185  2003-04  \n",
       "3302     0.165   0.521    0.100  2003-04  \n",
       "4381     0.089   0.626    0.007  2005-06  \n",
       "4630     0.132   0.434    0.092  2006-07  \n",
       "4921     0.142   0.499    0.225  2007-08  \n",
       "7324     0.142   0.428    0.090  2012-13  \n",
       "7372     0.115   0.532    0.178  2012-13  \n",
       "7404     0.117   0.547    0.085  2012-13  \n",
       "7468     0.231   0.540    0.207  2012-13  \n",
       "7791     0.186   0.488    0.428  2013-14  \n",
       "8793     0.117   0.491    0.164  2015-16  \n",
       "8906     0.162   0.600    0.276  2015-16  \n",
       "8967     0.174   0.523    0.153  2015-16  \n",
       "9116     0.149   0.542    0.112  2016-17  \n",
       "9738     0.199   0.575    0.098  2017-18  \n",
       "9990     0.097   0.525    0.098  2017-18  \n",
       "10054    0.205   0.553    0.193  2017-18  \n",
       "\n",
       "[27 rows x 22 columns]"
      ]
     },
     "execution_count": 103,
     "metadata": {},
     "output_type": "execute_result"
    }
   ],
   "source": [
    "nba[nba.age== 40]"
   ]
  },
  {
   "cell_type": "code",
   "execution_count": 104,
   "metadata": {},
   "outputs": [
    {
     "name": "stdout",
     "output_type": "stream",
     "text": [
      "When I look at the players represented in the age of 40 and above non of them have their draft year the same as the season year\n"
     ]
    },
    {
     "data": {
      "text/html": [
       "<div>\n",
       "<style scoped>\n",
       "    .dataframe tbody tr th:only-of-type {\n",
       "        vertical-align: middle;\n",
       "    }\n",
       "\n",
       "    .dataframe tbody tr th {\n",
       "        vertical-align: top;\n",
       "    }\n",
       "\n",
       "    .dataframe thead th {\n",
       "        text-align: right;\n",
       "    }\n",
       "</style>\n",
       "<table border=\"1\" class=\"dataframe\">\n",
       "  <thead>\n",
       "    <tr style=\"text-align: right;\">\n",
       "      <th></th>\n",
       "      <th>Unnamed: 0</th>\n",
       "      <th>player_name</th>\n",
       "      <th>team_abbreviation</th>\n",
       "      <th>age</th>\n",
       "      <th>player_height</th>\n",
       "      <th>player_weight</th>\n",
       "      <th>college</th>\n",
       "      <th>country</th>\n",
       "      <th>draft_year</th>\n",
       "      <th>draft_round</th>\n",
       "      <th>...</th>\n",
       "      <th>pts</th>\n",
       "      <th>reb</th>\n",
       "      <th>ast</th>\n",
       "      <th>net_rating</th>\n",
       "      <th>oreb_pct</th>\n",
       "      <th>dreb_pct</th>\n",
       "      <th>usg_pct</th>\n",
       "      <th>ts_pct</th>\n",
       "      <th>ast_pct</th>\n",
       "      <th>season</th>\n",
       "    </tr>\n",
       "  </thead>\n",
       "  <tbody>\n",
       "    <tr>\n",
       "      <th>21</th>\n",
       "      <td>21</td>\n",
       "      <td>Erick Dampier</td>\n",
       "      <td>IND</td>\n",
       "      <td>21.0</td>\n",
       "      <td>210.82</td>\n",
       "      <td>120.201880</td>\n",
       "      <td>Mississippi State</td>\n",
       "      <td>USA</td>\n",
       "      <td>1996</td>\n",
       "      <td>1</td>\n",
       "      <td>...</td>\n",
       "      <td>5.1</td>\n",
       "      <td>4.1</td>\n",
       "      <td>0.6</td>\n",
       "      <td>-2.0</td>\n",
       "      <td>0.107</td>\n",
       "      <td>0.216</td>\n",
       "      <td>0.218</td>\n",
       "      <td>0.451</td>\n",
       "      <td>0.074</td>\n",
       "      <td>1996-97</td>\n",
       "    </tr>\n",
       "    <tr>\n",
       "      <th>30</th>\n",
       "      <td>30</td>\n",
       "      <td>Derek Fisher</td>\n",
       "      <td>LAL</td>\n",
       "      <td>22.0</td>\n",
       "      <td>185.42</td>\n",
       "      <td>90.718400</td>\n",
       "      <td>Arkansas-Little Rock</td>\n",
       "      <td>USA</td>\n",
       "      <td>1996</td>\n",
       "      <td>1</td>\n",
       "      <td>...</td>\n",
       "      <td>3.9</td>\n",
       "      <td>1.2</td>\n",
       "      <td>1.5</td>\n",
       "      <td>5.1</td>\n",
       "      <td>0.031</td>\n",
       "      <td>0.087</td>\n",
       "      <td>0.186</td>\n",
       "      <td>0.491</td>\n",
       "      <td>0.223</td>\n",
       "      <td>1996-97</td>\n",
       "    </tr>\n",
       "    <tr>\n",
       "      <th>68</th>\n",
       "      <td>68</td>\n",
       "      <td>Jamie Feick</td>\n",
       "      <td>SAS</td>\n",
       "      <td>22.0</td>\n",
       "      <td>203.20</td>\n",
       "      <td>115.665960</td>\n",
       "      <td>Michigan State</td>\n",
       "      <td>USA</td>\n",
       "      <td>1996</td>\n",
       "      <td>2</td>\n",
       "      <td>...</td>\n",
       "      <td>3.7</td>\n",
       "      <td>5.2</td>\n",
       "      <td>0.6</td>\n",
       "      <td>-12.2</td>\n",
       "      <td>0.133</td>\n",
       "      <td>0.253</td>\n",
       "      <td>0.150</td>\n",
       "      <td>0.405</td>\n",
       "      <td>0.065</td>\n",
       "      <td>1996-97</td>\n",
       "    </tr>\n",
       "    <tr>\n",
       "      <th>73</th>\n",
       "      <td>73</td>\n",
       "      <td>Jason Sasser</td>\n",
       "      <td>DAL</td>\n",
       "      <td>23.0</td>\n",
       "      <td>200.66</td>\n",
       "      <td>102.058200</td>\n",
       "      <td>Texas Tech</td>\n",
       "      <td>USA</td>\n",
       "      <td>1996</td>\n",
       "      <td>2</td>\n",
       "      <td>...</td>\n",
       "      <td>2.4</td>\n",
       "      <td>1.0</td>\n",
       "      <td>0.3</td>\n",
       "      <td>-24.2</td>\n",
       "      <td>0.018</td>\n",
       "      <td>0.140</td>\n",
       "      <td>0.172</td>\n",
       "      <td>0.413</td>\n",
       "      <td>0.067</td>\n",
       "      <td>1996-97</td>\n",
       "    </tr>\n",
       "    <tr>\n",
       "      <th>77</th>\n",
       "      <td>77</td>\n",
       "      <td>Jeff McInnis</td>\n",
       "      <td>DEN</td>\n",
       "      <td>22.0</td>\n",
       "      <td>193.04</td>\n",
       "      <td>86.182480</td>\n",
       "      <td>North Carolina</td>\n",
       "      <td>USA</td>\n",
       "      <td>1996</td>\n",
       "      <td>2</td>\n",
       "      <td>...</td>\n",
       "      <td>5.0</td>\n",
       "      <td>0.5</td>\n",
       "      <td>1.4</td>\n",
       "      <td>-17.8</td>\n",
       "      <td>0.021</td>\n",
       "      <td>0.040</td>\n",
       "      <td>0.259</td>\n",
       "      <td>0.609</td>\n",
       "      <td>0.327</td>\n",
       "      <td>1996-97</td>\n",
       "    </tr>\n",
       "    <tr>\n",
       "      <th>...</th>\n",
       "      <td>...</td>\n",
       "      <td>...</td>\n",
       "      <td>...</td>\n",
       "      <td>...</td>\n",
       "      <td>...</td>\n",
       "      <td>...</td>\n",
       "      <td>...</td>\n",
       "      <td>...</td>\n",
       "      <td>...</td>\n",
       "      <td>...</td>\n",
       "      <td>...</td>\n",
       "      <td>...</td>\n",
       "      <td>...</td>\n",
       "      <td>...</td>\n",
       "      <td>...</td>\n",
       "      <td>...</td>\n",
       "      <td>...</td>\n",
       "      <td>...</td>\n",
       "      <td>...</td>\n",
       "      <td>...</td>\n",
       "      <td>...</td>\n",
       "    </tr>\n",
       "    <tr>\n",
       "      <th>11102</th>\n",
       "      <td>11102</td>\n",
       "      <td>Nickeil Alexander-Walker</td>\n",
       "      <td>NOP</td>\n",
       "      <td>21.0</td>\n",
       "      <td>195.58</td>\n",
       "      <td>92.986360</td>\n",
       "      <td>Virginia Tech</td>\n",
       "      <td>Canada</td>\n",
       "      <td>2019</td>\n",
       "      <td>1</td>\n",
       "      <td>...</td>\n",
       "      <td>5.1</td>\n",
       "      <td>2.0</td>\n",
       "      <td>1.8</td>\n",
       "      <td>-5.1</td>\n",
       "      <td>0.015</td>\n",
       "      <td>0.135</td>\n",
       "      <td>0.227</td>\n",
       "      <td>0.441</td>\n",
       "      <td>0.207</td>\n",
       "      <td>2019-20</td>\n",
       "    </tr>\n",
       "    <tr>\n",
       "      <th>11104</th>\n",
       "      <td>11104</td>\n",
       "      <td>Nicolas Claxton</td>\n",
       "      <td>BKN</td>\n",
       "      <td>20.0</td>\n",
       "      <td>210.82</td>\n",
       "      <td>97.522280</td>\n",
       "      <td>Georgia</td>\n",
       "      <td>USA</td>\n",
       "      <td>2019</td>\n",
       "      <td>2</td>\n",
       "      <td>...</td>\n",
       "      <td>4.4</td>\n",
       "      <td>2.9</td>\n",
       "      <td>1.1</td>\n",
       "      <td>-15.6</td>\n",
       "      <td>0.090</td>\n",
       "      <td>0.112</td>\n",
       "      <td>0.144</td>\n",
       "      <td>0.577</td>\n",
       "      <td>0.142</td>\n",
       "      <td>2019-20</td>\n",
       "    </tr>\n",
       "    <tr>\n",
       "      <th>11113</th>\n",
       "      <td>11113</td>\n",
       "      <td>Mfiondu Kabengele</td>\n",
       "      <td>LAC</td>\n",
       "      <td>22.0</td>\n",
       "      <td>205.74</td>\n",
       "      <td>113.398000</td>\n",
       "      <td>Florida State</td>\n",
       "      <td>Canada</td>\n",
       "      <td>2019</td>\n",
       "      <td>1</td>\n",
       "      <td>...</td>\n",
       "      <td>3.5</td>\n",
       "      <td>0.9</td>\n",
       "      <td>0.2</td>\n",
       "      <td>0.8</td>\n",
       "      <td>0.017</td>\n",
       "      <td>0.159</td>\n",
       "      <td>0.242</td>\n",
       "      <td>0.614</td>\n",
       "      <td>0.050</td>\n",
       "      <td>2019-20</td>\n",
       "    </tr>\n",
       "    <tr>\n",
       "      <th>11125</th>\n",
       "      <td>11125</td>\n",
       "      <td>Marial Shayok</td>\n",
       "      <td>PHI</td>\n",
       "      <td>24.0</td>\n",
       "      <td>195.58</td>\n",
       "      <td>89.811216</td>\n",
       "      <td>Iowa State</td>\n",
       "      <td>Canada</td>\n",
       "      <td>2019</td>\n",
       "      <td>2</td>\n",
       "      <td>...</td>\n",
       "      <td>1.5</td>\n",
       "      <td>1.5</td>\n",
       "      <td>0.5</td>\n",
       "      <td>-40.0</td>\n",
       "      <td>0.000</td>\n",
       "      <td>0.273</td>\n",
       "      <td>0.214</td>\n",
       "      <td>0.300</td>\n",
       "      <td>0.111</td>\n",
       "      <td>2019-20</td>\n",
       "    </tr>\n",
       "    <tr>\n",
       "      <th>11135</th>\n",
       "      <td>11135</td>\n",
       "      <td>Matisse Thybulle</td>\n",
       "      <td>PHI</td>\n",
       "      <td>23.0</td>\n",
       "      <td>195.58</td>\n",
       "      <td>91.171992</td>\n",
       "      <td>Washington</td>\n",
       "      <td>USA</td>\n",
       "      <td>2019</td>\n",
       "      <td>1</td>\n",
       "      <td>...</td>\n",
       "      <td>4.6</td>\n",
       "      <td>1.5</td>\n",
       "      <td>1.2</td>\n",
       "      <td>1.2</td>\n",
       "      <td>0.031</td>\n",
       "      <td>0.047</td>\n",
       "      <td>0.111</td>\n",
       "      <td>0.522</td>\n",
       "      <td>0.085</td>\n",
       "      <td>2019-20</td>\n",
       "    </tr>\n",
       "  </tbody>\n",
       "</table>\n",
       "<p>1067 rows × 22 columns</p>\n",
       "</div>"
      ],
      "text/plain": [
       "       Unnamed: 0               player_name team_abbreviation   age  \\\n",
       "21             21             Erick Dampier               IND  21.0   \n",
       "30             30              Derek Fisher               LAL  22.0   \n",
       "68             68               Jamie Feick               SAS  22.0   \n",
       "73             73              Jason Sasser               DAL  23.0   \n",
       "77             77              Jeff McInnis               DEN  22.0   \n",
       "...           ...                       ...               ...   ...   \n",
       "11102       11102  Nickeil Alexander-Walker               NOP  21.0   \n",
       "11104       11104           Nicolas Claxton               BKN  20.0   \n",
       "11113       11113         Mfiondu Kabengele               LAC  22.0   \n",
       "11125       11125             Marial Shayok               PHI  24.0   \n",
       "11135       11135          Matisse Thybulle               PHI  23.0   \n",
       "\n",
       "       player_height  player_weight               college country draft_year  \\\n",
       "21            210.82     120.201880     Mississippi State     USA       1996   \n",
       "30            185.42      90.718400  Arkansas-Little Rock     USA       1996   \n",
       "68            203.20     115.665960        Michigan State     USA       1996   \n",
       "73            200.66     102.058200            Texas Tech     USA       1996   \n",
       "77            193.04      86.182480        North Carolina     USA       1996   \n",
       "...              ...            ...                   ...     ...        ...   \n",
       "11102         195.58      92.986360         Virginia Tech  Canada       2019   \n",
       "11104         210.82      97.522280               Georgia     USA       2019   \n",
       "11113         205.74     113.398000         Florida State  Canada       2019   \n",
       "11125         195.58      89.811216            Iowa State  Canada       2019   \n",
       "11135         195.58      91.171992            Washington     USA       2019   \n",
       "\n",
       "      draft_round  ...  pts  reb  ast  net_rating  oreb_pct  dreb_pct  \\\n",
       "21              1  ...  5.1  4.1  0.6        -2.0     0.107     0.216   \n",
       "30              1  ...  3.9  1.2  1.5         5.1     0.031     0.087   \n",
       "68              2  ...  3.7  5.2  0.6       -12.2     0.133     0.253   \n",
       "73              2  ...  2.4  1.0  0.3       -24.2     0.018     0.140   \n",
       "77              2  ...  5.0  0.5  1.4       -17.8     0.021     0.040   \n",
       "...           ...  ...  ...  ...  ...         ...       ...       ...   \n",
       "11102           1  ...  5.1  2.0  1.8        -5.1     0.015     0.135   \n",
       "11104           2  ...  4.4  2.9  1.1       -15.6     0.090     0.112   \n",
       "11113           1  ...  3.5  0.9  0.2         0.8     0.017     0.159   \n",
       "11125           2  ...  1.5  1.5  0.5       -40.0     0.000     0.273   \n",
       "11135           1  ...  4.6  1.5  1.2         1.2     0.031     0.047   \n",
       "\n",
       "       usg_pct  ts_pct  ast_pct   season  \n",
       "21       0.218   0.451    0.074  1996-97  \n",
       "30       0.186   0.491    0.223  1996-97  \n",
       "68       0.150   0.405    0.065  1996-97  \n",
       "73       0.172   0.413    0.067  1996-97  \n",
       "77       0.259   0.609    0.327  1996-97  \n",
       "...        ...     ...      ...      ...  \n",
       "11102    0.227   0.441    0.207  2019-20  \n",
       "11104    0.144   0.577    0.142  2019-20  \n",
       "11113    0.242   0.614    0.050  2019-20  \n",
       "11125    0.214   0.300    0.111  2019-20  \n",
       "11135    0.111   0.522    0.085  2019-20  \n",
       "\n",
       "[1067 rows x 22 columns]"
      ]
     },
     "execution_count": 104,
     "metadata": {},
     "output_type": "execute_result"
    }
   ],
   "source": [
    "print(\"When I look at the players represented in the age of 40 and above non of them have their draft year the same as the season year\")\n",
    "rookie = nba[nba.season.str[0:4] == nba.draft_year]\n",
    "rookie"
   ]
  },
  {
   "cell_type": "code",
   "execution_count": 107,
   "metadata": {},
   "outputs": [
    {
     "data": {
      "text/plain": [
       "<matplotlib.axes._subplots.AxesSubplot at 0x1e937e514c0>"
      ]
     },
     "execution_count": 107,
     "metadata": {},
     "output_type": "execute_result"
    },
    {
     "data": {
      "image/png": "[encoded data removed]",
      "text/plain": [
       "<Figure size 720x360 with 1 Axes>"
      ]
     },
     "metadata": {
      "needs_background": "light"
     },
     "output_type": "display_data"
    }
   ],
   "source": [
    "sns.boxplot(x=rookie.age)"
   ]
  },
  {
   "cell_type": "code",
   "execution_count": 116,
   "metadata": {},
   "outputs": [
    {
     "name": "stdout",
     "output_type": "stream",
     "text": [
      "When I compare the rookie ages with the ages in the nba database that I have the rookie database has less outliers.\n",
      "I chose to focus on the rookies in order to gain focus in the data and and sharpen my ability to detect and remove outliers in an acceptable way.\n"
     ]
    }
   ],
   "source": [
    "print(\"When I compare the rookie ages with the ages in the nba database that I have the rookie database has less outliers.\")\n",
    "print(\"I chose to focus on the rookies in order to gain focus in the data and and sharpen my ability to detect and remove outliers in an acceptable way.\")"
   ]
  },
  {
   "cell_type": "code",
   "execution_count": 95,
   "metadata": {},
   "outputs": [
    {
     "data": {
      "text/plain": [
       "<matplotlib.axes._subplots.AxesSubplot at 0x1e93787c580>"
      ]
     },
     "execution_count": 95,
     "metadata": {},
     "output_type": "execute_result"
    },
    {
     "data": {
      "image/png": "[encoded data removed]",
      "text/plain": [
       "<Figure size 720x360 with 1 Axes>"
      ]
     },
     "metadata": {
      "needs_background": "light"
     },
     "output_type": "display_data"
    }
   ],
   "source": [
    "import seaborn as sns\n",
    "sns.boxplot(x=nba.player_height)"
   ]
  },
  {
   "cell_type": "code",
   "execution_count": 105,
   "metadata": {},
   "outputs": [
    {
     "data": {
      "text/plain": [
       "<matplotlib.axes._subplots.AxesSubplot at 0x1e9364c2100>"
      ]
     },
     "execution_count": 105,
     "metadata": {},
     "output_type": "execute_result"
    },
    {
     "data": {
      "image/png": "[encoded data removed]",
      "text/plain": [
       "<Figure size 720x360 with 1 Axes>"
      ]
     },
     "metadata": {
      "needs_background": "light"
     },
     "output_type": "display_data"
    }
   ],
   "source": [
    "sns.boxplot(x=rookie.player_height)"
   ]
  },
  {
   "cell_type": "code",
   "execution_count": 98,
   "metadata": {
    "scrolled": true
   },
   "outputs": [
    {
     "data": {
      "text/plain": [
       "<matplotlib.axes._subplots.AxesSubplot at 0x1e9366b8520>"
      ]
     },
     "execution_count": 98,
     "metadata": {},
     "output_type": "execute_result"
    },
    {
     "data": {
      "image/png": "[encoded data removed]",
      "text/plain": [
       "<Figure size 720x360 with 1 Axes>"
      ]
     },
     "metadata": {
      "needs_background": "light"
     },
     "output_type": "display_data"
    }
   ],
   "source": [
    "sns.boxplot(x=nba.net_rating)"
   ]
  },
  {
   "cell_type": "code",
   "execution_count": 111,
   "metadata": {},
   "outputs": [
    {
     "data": {
      "text/plain": [
       "<matplotlib.axes._subplots.AxesSubplot at 0x1e937f850d0>"
      ]
     },
     "execution_count": 111,
     "metadata": {},
     "output_type": "execute_result"
    },
    {
     "data": {
      "image/png": "[encoded data removed]",
      "text/plain": [
       "<Figure size 720x360 with 1 Axes>"
      ]
     },
     "metadata": {
      "needs_background": "light"
     },
     "output_type": "display_data"
    }
   ],
   "source": [
    "sns.boxplot(x=rookie.net_rating)"
   ]
  },
  {
   "cell_type": "code",
   "execution_count": null,
   "metadata": {},
   "outputs": [],
   "source": [
    "print(\"When we compare rookie net rating to the nba net rating, rookie has less outliers.\")"
   ]
  },
  {
   "cell_type": "code",
   "execution_count": 97,
   "metadata": {
    "scrolled": true
   },
   "outputs": [
    {
     "data": {
      "text/plain": [
       "<matplotlib.axes._subplots.AxesSubplot at 0x1e933694940>"
      ]
     },
     "execution_count": 97,
     "metadata": {},
     "output_type": "execute_result"
    },
    {
     "data": {
      "image/png": "[encoded data removed]",
      "text/plain": [
       "<Figure size 720x360 with 1 Axes>"
      ]
     },
     "metadata": {
      "needs_background": "light"
     },
     "output_type": "display_data"
    }
   ],
   "source": [
    "sns.boxplot(x=nba.ts_pct)"
   ]
  },
  {
   "cell_type": "code",
   "execution_count": 112,
   "metadata": {},
   "outputs": [
    {
     "data": {
      "text/plain": [
       "<matplotlib.axes._subplots.AxesSubplot at 0x1e9365d5220>"
      ]
     },
     "execution_count": 112,
     "metadata": {},
     "output_type": "execute_result"
    },
    {
     "data": {
      "image/png": "[encoded data removed]",
      "text/plain": [
       "<Figure size 720x360 with 1 Axes>"
      ]
     },
     "metadata": {
      "needs_background": "light"
     },
     "output_type": "display_data"
    }
   ],
   "source": [
    "sns.boxplot(x=rookie.ts_pct)"
   ]
  },
  {
   "cell_type": "code",
   "execution_count": 99,
   "metadata": {},
   "outputs": [
    {
     "data": {
      "text/plain": [
       "<matplotlib.axes._subplots.AxesSubplot at 0x1e9379d1280>"
      ]
     },
     "execution_count": 99,
     "metadata": {},
     "output_type": "execute_result"
    },
    {
     "data": {
      "image/png": "[encoded data removed]",
      "text/plain": [
       "<Figure size 720x360 with 1 Axes>"
      ]
     },
     "metadata": {
      "needs_background": "light"
     },
     "output_type": "display_data"
    }
   ],
   "source": [
    "sns.boxplot(x=nba.oreb_pct)"
   ]
  },
  {
   "cell_type": "code",
   "execution_count": 113,
   "metadata": {},
   "outputs": [
    {
     "data": {
      "text/plain": [
       "<matplotlib.axes._subplots.AxesSubplot at 0x1e938fc1880>"
      ]
     },
     "execution_count": 113,
     "metadata": {},
     "output_type": "execute_result"
    },
    {
     "data": {
      "image/png": "[encoded data removed]",
      "text/plain": [
       "<Figure size 720x360 with 1 Axes>"
      ]
     },
     "metadata": {
      "needs_background": "light"
     },
     "output_type": "display_data"
    }
   ],
   "source": [
    "sns.boxplot(x=rookie.oreb_pct)"
   ]
  },
  {
   "cell_type": "code",
   "execution_count": 100,
   "metadata": {},
   "outputs": [
    {
     "data": {
      "text/plain": [
       "<matplotlib.axes._subplots.AxesSubplot at 0x1e934d3a5b0>"
      ]
     },
     "execution_count": 100,
     "metadata": {},
     "output_type": "execute_result"
    },
    {
     "data": {
      "image/png": "[encoded data removed]",
      "text/plain": [
       "<Figure size 720x360 with 1 Axes>"
      ]
     },
     "metadata": {
      "needs_background": "light"
     },
     "output_type": "display_data"
    }
   ],
   "source": [
    "sns.boxplot(x=nba.dreb_pct)"
   ]
  },
  {
   "cell_type": "code",
   "execution_count": 114,
   "metadata": {},
   "outputs": [
    {
     "data": {
      "text/plain": [
       "<matplotlib.axes._subplots.AxesSubplot at 0x1e939018c10>"
      ]
     },
     "execution_count": 114,
     "metadata": {},
     "output_type": "execute_result"
    },
    {
     "data": {
      "image/png": "[encoded data removed]",
      "text/plain": [
       "<Figure size 720x360 with 1 Axes>"
      ]
     },
     "metadata": {
      "needs_background": "light"
     },
     "output_type": "display_data"
    }
   ],
   "source": [
    "sns.boxplot(x=rookie.dreb_pct)"
   ]
  },
  {
   "cell_type": "code",
   "execution_count": null,
   "metadata": {},
   "outputs": [],
   "source": [
    "print(\"As I examine all the features between the rookie data and the nba data, the rookie data has less outliers.\")"
   ]
  },
  {
   "cell_type": "code",
   "execution_count": 256,
   "metadata": {},
   "outputs": [
    {
     "data": {
      "image/png": "[encoded data removed]",
      "text/plain": [
       "<Figure size 720x360 with 1 Axes>"
      ]
     },
     "metadata": {
      "needs_background": "light"
     },
     "output_type": "display_data"
    },
    {
     "data": {
      "text/plain": [
       "<Figure size 576x432 with 0 Axes>"
      ]
     },
     "metadata": {},
     "output_type": "display_data"
    }
   ],
   "source": [
    "# identify the list of nba player that we do not have their rookie year data\n",
    "def Diff(li1, li2):\n",
    "    return list(set(li1) - set(li2)) + list(set(li2) - set(li1))\n",
    "a = nba.player_name.to_list()\n",
    "b = rookie.player_name.to_list()\n",
    "c = Diff(a, b)\n",
    "\n",
    "#  take the player for which do not have their rookie year select their earliest year\n",
    "other_nba = nba[nba.player_name.isin(c)]\n",
    "other_nba = other_nba.sort_values(by=['age'])\n",
    "other_nba = other_nba.drop_duplicates(subset=\"player_name\", keep='first')\n",
    "\n",
    "\n",
    "\n",
    "\n",
    "first_hist = thinkstats2.Hist(other_nba.player_height, label='other NBA')\n",
    "other_hist = thinkstats2.Hist(rookie.player_height, label='Rookie')\n",
    "other_pmf = thinkstats2.Pmf(other_nba.player_height, label='all NBA')\n",
    "pmf = thinkstats2.Pmf(rookie.player_height, label='Rookie')\n",
    "\n",
    "width = 0.45\n",
    "thinkplot.PrePlot(2)\n",
    "thinkplot.Hist(pmf, align='right', width=width)\n",
    "thinkplot.Hist(other_pmf, align='left', width=width)\n",
    "thinkplot.Show(xlabel='height', ylabel='frequency')"
   ]
  },
  {
   "cell_type": "code",
   "execution_count": 257,
   "metadata": {},
   "outputs": [
    {
     "data": {
      "image/png": "[encoded data removed]",
      "text/plain": [
       "<Figure size 720x360 with 1 Axes>"
      ]
     },
     "metadata": {
      "needs_background": "light"
     },
     "output_type": "display_data"
    },
    {
     "data": {
      "text/plain": [
       "<Figure size 576x432 with 0 Axes>"
      ]
     },
     "metadata": {},
     "output_type": "display_data"
    }
   ],
   "source": [
    "other_pmf = thinkstats2.Pmf(other_nba.age, label='all NBA')\n",
    "pmf = thinkstats2.Pmf(rookie.age, label='Rookie')\n",
    "\n",
    "width = 0.45\n",
    "thinkplot.PrePlot(2)\n",
    "thinkplot.Hist(pmf, align='right', width=width, color = \"b\")\n",
    "thinkplot.Hist(other_pmf, align='left', width=width, color = \"r\")\n",
    "\n",
    "\n",
    "thinkplot.Show(xlabel='age', ylabel='frequency') \n"
   ]
  },
  {
   "cell_type": "code",
   "execution_count": 262,
   "metadata": {},
   "outputs": [
    {
     "data": {
      "image/png": "[encoded data removed]",
      "text/plain": [
       "<Figure size 720x360 with 1 Axes>"
      ]
     },
     "metadata": {
      "needs_background": "light"
     },
     "output_type": "display_data"
    },
    {
     "data": {
      "text/plain": [
       "<Figure size 576x432 with 0 Axes>"
      ]
     },
     "metadata": {},
     "output_type": "display_data"
    }
   ],
   "source": [
    "cdf = thinkstats2.Cdf(rookie.player_height, label='Rookie')\n",
    "other_cdf = thinkstats2.Cdf(other_nba.player_height, label='all NBA')\n",
    "width = 0.45\n",
    "# thinkplot.PrePlot(2)\n",
    "# thinkplot.Hist(cdf, align='right', width=width, color = \"b\")\n",
    "# thinkplot.Hist(other_cdf, align='left', width=width, color = \"r\")\n",
    "\n",
    "\n",
    "# thinkplot.Show(xlabel='age', ylabel='frequency')\n",
    "thinkplot.PrePlot(2)\n",
    "thinkplot.Cdfs([cdf, other_cdf])\n",
    "thinkplot.Show(xlabel='height', ylabel='CDF')"
   ]
  },
  {
   "cell_type": "code",
   "execution_count": 294,
   "metadata": {
    "scrolled": true
   },
   "outputs": [
    {
     "data": {
      "text/plain": [
       "count    11145.000000\n",
       "mean         0.055593\n",
       "std          0.043889\n",
       "min          0.000000\n",
       "25%          0.022000\n",
       "50%          0.043000\n",
       "75%          0.086000\n",
       "max          1.000000\n",
       "Name: oreb_pct, dtype: float64"
      ]
     },
     "execution_count": 294,
     "metadata": {},
     "output_type": "execute_result"
    }
   ],
   "source": [
    "nba.oreb_pct.describe()"
   ]
  },
  {
   "cell_type": "code",
   "execution_count": 303,
   "metadata": {},
   "outputs": [
    {
     "data": {
      "image/png": "[encoded data removed]",
      "text/plain": [
       "<Figure size 720x720 with 1 Axes>"
      ]
     },
     "metadata": {
      "needs_background": "light"
     },
     "output_type": "display_data"
    }
   ],
   "source": [
    "x = nba.oreb_pct\n",
    "\n",
    "# the histogram of the data\n",
    "n, bins, patches = plt.hist(x, 200, density=True, facecolor='blue', alpha=0.9)\n",
    "\n",
    "\n",
    "plt.xlabel('Player offensive rebound percentage')\n",
    "plt.ylabel('Frequency')\n",
    "plt.title('Histogram of player offensive rebound percentage')\n",
    "plt.text(0.25,4.5,  r'$\\mu=0.056,\\ \\sigma=0.044$')\n",
    "plt.rcParams[\"figure.figsize\"] = (10, 10)\n",
    "plt.xlim(0, 1.0)\n",
    "plt.grid(True)\n",
    "plt.show()"
   ]
  },
  {
   "cell_type": "code",
   "execution_count": 305,
   "metadata": {},
   "outputs": [
    {
     "data": {
      "image/png": "[encoded data removed]",
      "text/plain": [
       "<Figure size 720x720 with 1 Axes>"
      ]
     },
     "metadata": {
      "needs_background": "light"
     },
     "output_type": "display_data"
    },
    {
     "data": {
      "text/plain": [
       "<Figure size 576x432 with 0 Axes>"
      ]
     },
     "metadata": {},
     "output_type": "display_data"
    }
   ],
   "source": [
    "# df = ReadBabyBoom()\n",
    "# diffs = df.minutes.diff()\n",
    "cdf = thinkstats2.Cdf(nba.oreb_pct, label='oreb_pct')\n",
    "\n",
    "thinkplot.Cdf(cdf)\n",
    "thinkplot.Show(xlabel='CDF of player offensive rebound percentage', ylabel='CDF')"
   ]
  },
  {
   "cell_type": "code",
   "execution_count": 310,
   "metadata": {},
   "outputs": [
    {
     "data": {
      "image/png": "[encoded data removed]",
      "text/plain": [
       "<Figure size 720x720 with 1 Axes>"
      ]
     },
     "metadata": {
      "needs_background": "light"
     },
     "output_type": "display_data"
    },
    {
     "data": {
      "text/plain": [
       "<Figure size 576x432 with 0 Axes>"
      ]
     },
     "metadata": {},
     "output_type": "display_data"
    }
   ],
   "source": [
    "thinkplot.Scatter(nba.player_height, nba.player_weight)\n",
    "thinkplot.Show(xlabel='Height (cm)',\n",
    "ylabel='Weight (lbs)',\n",
    "axis=[155, 240, 50, 180])"
   ]
  },
  {
   "cell_type": "code",
   "execution_count": 318,
   "metadata": {},
   "outputs": [],
   "source": [
    "def Cov(xs, ys, meanx=None, meany=None):\n",
    "    xs = np.asarray(xs)\n",
    "    ys = np.asarray(ys)\n",
    "    if meanx is None:\n",
    "        meanx = np.mean(xs)\n",
    "    if meany is None:\n",
    "        meany = np.mean(ys)\n",
    "    cov = np.dot(xs-meanx, ys-meany) / len(xs)\n",
    "    return cov\n",
    "\n",
    "def Corr(xs, ys):\n",
    "    xs = np.asarray(xs)\n",
    "    ys = np.asarray(ys)\n",
    "    meanx = np.mean(xs)\n",
    "    varx = np.var(xs)\n",
    "    meany = np.mean(ys)\n",
    "    vary = np.var(ys)\n",
    "    corr = Cov(xs, ys, meanx, meany) / math.sqrt(varx * vary)\n",
    "    return corr\n",
    "\n",
    "def SpearmanCorr1(xs, ys):\n",
    "    xranks = pd.Series(xs).rank()\n",
    "    yranks = pd.Series(ys).rank()\n",
    "    return Corr(xranks, yranks)\n",
    "\n",
    "def SpearmanCorr(xs, ys):\n",
    "    xs = pd.Series(xs)\n",
    "    ys = pd.Series(ys)\n",
    "    return xs.corr(ys, method='spearman')"
   ]
  },
  {
   "cell_type": "code",
   "execution_count": 320,
   "metadata": {},
   "outputs": [
    {
     "name": "stdout",
     "output_type": "stream",
     "text": [
      "95.91836573809445 0.829901431710946 0.8399647922017057 0.8399647922017057\n"
     ]
    }
   ],
   "source": [
    "height_weight_cov = Cov(nba.player_height, nba.player_weight)\n",
    "height_weight_corr = Corr(nba.player_height, nba.player_weight)\n",
    "height_weight_corr_sp1 = SpearmanCorr1(nba.player_height, nba.player_weight)\n",
    "height_weight_corr_sp = SpearmanCorr(nba.player_height, nba.player_weight)\n",
    "print(height_weight_cov, height_weight_corr, height_weight_corr_sp1, height_weight_corr_sp)"
   ]
  },
  {
   "cell_type": "markdown",
   "metadata": {},
   "source": [
    "The NBA players height and weight appear to covary and both Pearson and Spearmans correlation is posting strong positive numbers. This suggests that most of the difference in weight can be explained by the difference in the player height. This can be interpreted as a causal relationship."
   ]
  },
  {
   "cell_type": "code",
   "execution_count": 322,
   "metadata": {},
   "outputs": [
    {
     "data": {
      "image/png": "[encoded data removed]",
      "text/plain": [
       "<Figure size 720x720 with 1 Axes>"
      ]
     },
     "metadata": {
      "needs_background": "light"
     },
     "output_type": "display_data"
    },
    {
     "data": {
      "text/plain": [
       "<Figure size 576x432 with 0 Axes>"
      ]
     },
     "metadata": {},
     "output_type": "display_data"
    }
   ],
   "source": [
    "thinkplot.Scatter(nba.player_height, nba.ast)\n",
    "thinkplot.Show(xlabel='Height (cm)',\n",
    "ylabel='Player assist score points') #,\n",
    "#axis=[155, 240, 50, 180])"
   ]
  },
  {
   "cell_type": "code",
   "execution_count": 323,
   "metadata": {},
   "outputs": [
    {
     "name": "stdout",
     "output_type": "stream",
     "text": [
      "-7.63120187872212 -0.4639080079970386 -0.4688629687038491 -0.46886296870384914\n"
     ]
    }
   ],
   "source": [
    "height_assist_cov = Cov(nba.player_height, nba.ast)\n",
    "height_assist_corr = Corr(nba.player_height, nba.ast)\n",
    "height_assist_corr_sp1 = SpearmanCorr1(nba.player_height, nba.ast)\n",
    "height_assist_corr_sp = SpearmanCorr(nba.player_height, nba.ast)\n",
    "print(height_assist_cov, height_assist_corr, height_assist_corr_sp1, height_assist_corr_sp)"
   ]
  },
  {
   "attachments": {},
   "cell_type": "markdown",
   "metadata": {},
   "source": [
    "I am truly shocked by this number. I thought that if I plotted this graph the taller players would make more points from assist scores. But the data says the opposite thing. The shorter players score more assist points. It appears assist points are negatively incentivized in relation to teams becoming NBA champions."
   ]
  },
  {
   "cell_type": "code",
   "execution_count": null,
   "metadata": {
    "scrolled": true
   },
   "outputs": [],
   "source": [
    "# import sweetviz as sv\n",
    "# analyze_report = sv.analyze(nba)\n",
    "# analyze_report.show_notebook(w=900, h=700, scale=0.8)\n",
    "# from pandas_profiling import ProfileReport\n",
    "# profile = ProfileReport(nba, title=\"All NBA Players Profiling Report\")\n",
    "# profile"
   ]
  },
  {
   "cell_type": "code",
   "execution_count": null,
   "metadata": {},
   "outputs": [],
   "source": [
    "# profile2 = ProfileReport(win, title=\"NBA Winning Players Profiling Report\")\n",
    "# profile2"
   ]
  },
  {
   "cell_type": "code",
   "execution_count": null,
   "metadata": {},
   "outputs": [],
   "source": [
    "# cols = pd.MultiIndex.from_tuples(('Unnamed: 0_level_0', 'Season'), ('Unnamed: 1_level_0', 'Lg'), ('Unnamed: 2_level_0', 'Champion'), ('Award Winners', 'MVP'), ('Award Winners', 'Rookie of the Year'), ('Top Performers', 'Points'), ('Top Performers', 'Rebounds'), ('Top Performers','Assists'), ('Top Performers', 'Win Shares'))\n",
    "# df = pd.DataFrame([[1,2], [3,4], [5,6], [7,8], [9,10], [11,12], [13,14], [15,16], [17,18]], columns=cols)\n",
    "# df\n",
    "# Net_rating,oreb_pct Offensive Rebound %,dreb_pct Defensive Rebound %, ast_pct Assist %, ts_pct true shooting percentage\n",
    "# usg_pct Usage Rate (how many plays that help the team)"
   ]
  },
  {
   "cell_type": "code",
   "execution_count": null,
   "metadata": {},
   "outputs": [],
   "source": [
    "# import sqlite3\n",
    "# # Create your connection.\n",
    "# cnx = sqlite3.connect(':memory:')\n",
    "# win[0].to_sql(name='nba', con=cnx)\n",
    "# df1 = pd.read_sql('select * from nba', cnx)\n",
    "# df1"
   ]
  },
  {
   "cell_type": "code",
   "execution_count": null,
   "metadata": {},
   "outputs": [],
   "source": [
    "# df1.to_excel(\"test4.xlsx\")"
   ]
  },
  {
   "cell_type": "code",
   "execution_count": null,
   "metadata": {},
   "outputs": [],
   "source": [
    "# profile.to_file(\"nba_profile.html\")"
   ]
  },
  {
   "cell_type": "code",
   "execution_count": null,
   "metadata": {},
   "outputs": [],
   "source": []
  }
 ],
 "metadata": {
  "kernelspec": {
   "display_name": "Python 3",
   "language": "python",
   "name": "python3"
  }
 },
 "nbformat": 4,
 "nbformat_minor": 4
}
